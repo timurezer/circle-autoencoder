{
  "nbformat": 4,
  "nbformat_minor": 0,
  "metadata": {
    "colab": {
      "name": "np_parameters_search.ipynb",
      "provenance": []
    },
    "kernelspec": {
      "name": "python3",
      "display_name": "Python 3"
    },
    "language_info": {
      "name": "python"
    }
  },
  "cells": [
    {
      "cell_type": "code",
      "source": [
        "import numpy as np\n",
        "import random\n",
        "import matplotlib.pyplot as plt\n",
        "import copy\n"
      ],
      "metadata": {
        "id": "KwdMhSj8E-s1"
      },
      "execution_count": 2,
      "outputs": []
    },
    {
      "cell_type": "markdown",
      "source": [
        "# Code"
      ],
      "metadata": {
        "id": "nfN2PAX5k_FT"
      }
    },
    {
      "cell_type": "code",
      "execution_count": 6,
      "metadata": {
        "id": "yxHVtSCvE8oj"
      },
      "outputs": [],
      "source": [
        "class Module:\n",
        "    def forward(self, x):\n",
        "        pass\n",
        "\n",
        "    def backward(self, grad):\n",
        "        pass\n",
        "\n",
        "    def update(self, lr):\n",
        "        pass\n",
        "\n",
        "class Linear(Module):\n",
        "    def __init__(self, in_dim, out_dim):\n",
        "        self.in_dim = in_dim\n",
        "        xavier = 1 / np.sqrt(in_dim)\n",
        "        self.W = np.random.uniform(-xavier, xavier, size=(in_dim, out_dim))\n",
        "        self.b = np.zeros((1, out_dim))\n",
        "        self.dW = None\n",
        "        self.db = None\n",
        "        self.x = None\n",
        "\n",
        "    def forward(self, x):\n",
        "        assert x.shape[-1] == self.in_dim\n",
        "        self.x = x.copy()\n",
        "        return x @ self.W + self.b\n",
        "\n",
        "    def backward(self, grad):\n",
        "        self.dW = self.x.T @ grad\n",
        "        self.db = np.sum(grad, axis=0, keepdims=True)\n",
        "        grad_ = grad @ self.W.T\n",
        "        return grad_\n",
        "\n",
        "    def update(self, lr):\n",
        "        self.W -= lr * self.dW\n",
        "        self.b -= lr * self.db\n",
        "\n",
        "\n",
        "class ReLU(Module):\n",
        "    def __init__(self):\n",
        "        self.x = None\n",
        "\n",
        "    def forward(self, x):\n",
        "        self.x = x.copy()\n",
        "        return x * (x >= 0)\n",
        "\n",
        "    def backward(self, grad):\n",
        "        return grad * (self.x >= 0)\n",
        "\n",
        "class MSE(Module):\n",
        "    def __init__(self):\n",
        "        self.x = None\n",
        "        self.y = None\n",
        "        self.N = None\n",
        "\n",
        "    def forward(self, x, y):\n",
        "        self.x = x.copy()\n",
        "        self.y = y.copy()\n",
        "        self.N = x.shape[0] * x.shape[1]\n",
        "        return np.mean((x-y)**2)\n",
        "\n",
        "    def backward(self):\n",
        "        return 2 * (self.x - self.y) / self.N    # (batch, 2)\n",
        "\n",
        "\n",
        "class DataLoader:\n",
        "    def __init__(self, X, batch_size):\n",
        "        self.X = X.copy()\n",
        "        self.N = X.shape[0]\n",
        "        self.batch_size = batch_size\n",
        "        self.idx = np.arange(X.shape[0])\n",
        "\n",
        "    def __len__(self):\n",
        "        return np.ceil(self.N / self.batch_size).astype(int)\n",
        "\n",
        "    def shuffle(self):\n",
        "        self.idx = np.random.permutation(self.N)\n",
        "        self.X = self.X[self.idx]\n",
        "\n",
        "    def __iter__(self):\n",
        "        start, stop = 0, 0\n",
        "        self.shuffle()\n",
        "        while start < self.X.shape[0]:\n",
        "            stop = start + self.batch_size\n",
        "            yield self.X[start:stop]\n",
        "            start = stop\n",
        "\n",
        "def single_pass(model, dataloader, loss_func, lr, optim=True):\n",
        "    loss_count = 0\n",
        "    for i, data in enumerate(dataloader):\n",
        "        data = data\n",
        "        pred = model.forward(data)\n",
        "        loss = loss_func.forward(pred, data)\n",
        "        loss_count += loss\n",
        "        grad = loss_func.backward()\n",
        "\n",
        "        if optim:\n",
        "            model.backward(grad)\n",
        "            model.update(lr)\n",
        "    return loss_count / len(dataloader)\n",
        "\n",
        "\n",
        "\n",
        "def train_model(model, loss, lr, epochs, dataloaders, print_step=10):\n",
        "    dataloader_train, dataloader_val = dataloaders\n",
        "    train_loss_all, val_loss_all = [], []\n",
        "    # training loop\n",
        "    for epoch in range(epochs):\n",
        "        # train\n",
        "        train_loss = single_pass(model, dataloader_train, loss, lr)\n",
        "        # validation\n",
        "        if epoch % print_step == 0:\n",
        "            val_loss = single_pass(model, dataloader_val, loss, lr, optim=False)\n",
        "            print(\n",
        "                f'epoch {epoch}, train_loss={train_loss}, val_loss={val_loss}')\n",
        "\n",
        "            train_loss_all.append(train_loss)\n",
        "            # val_loss_all.append(val_loss)\n",
        "\n",
        "    return train_loss_all, val_loss_all\n",
        "\n",
        "def create_data(n, noise=False, sigma=0.1):\n",
        "    # creade set of points at circle with R=1\n",
        "    phi = 2 * np.pi * np.arange(n) / n    # np.random.rand(n) # np.arange(n) / n\n",
        "    x, y = np.cos(phi), np.sin(phi)\n",
        "    if noise:\n",
        "        x += np.random.normal(0, sigma, n)\n",
        "        y += np.random.normal(0, sigma, n)\n",
        "    data = np.hstack((x.reshape(-1, 1), y.reshape(-1, 1)))\n",
        "    return data\n",
        "\n"
      ]
    },
    {
      "cell_type": "markdown",
      "source": [
        "### model"
      ],
      "metadata": {
        "id": "OavzbxnylA_g"
      }
    },
    {
      "cell_type": "code",
      "source": [
        "class AutoEncoder(Module):\n",
        "    def __init__(self, h=6):\n",
        "        self.encoder = [\n",
        "            Linear(2, h),\n",
        "            ReLU(),\n",
        "            Linear(h, h),\n",
        "            ReLU(),\n",
        "            Linear(h, 1),\n",
        "            ReLU()\n",
        "        ]\n",
        "        self.decoder = [\n",
        "            Linear(1, h),\n",
        "            ReLU(),\n",
        "            Linear(h, h),\n",
        "            ReLU(),\n",
        "            Linear(h, 2),     # (h, 2)\n",
        "        ]\n",
        "\n",
        "    def forward(self, x):\n",
        "        x_ = x.copy()\n",
        "        for module in self.encoder:\n",
        "            x_ = module.forward(x_)\n",
        "        for module in self.decoder:\n",
        "            x_ = module.forward(x_)\n",
        "        return x_\n",
        "\n",
        "    def backward(self, grad):\n",
        "        grad_ = grad.copy()\n",
        "        # print('dec')\n",
        "        # for i, module in enumerate(self.decoder[::-1]):\n",
        "        for module in self.decoder[::-1]:\n",
        "            grad_ = module.backward(grad_)\n",
        "        #     print(i)\n",
        "        # print('enc')\n",
        "        for module in self.encoder[::-1]:\n",
        "            # print(i)\n",
        "            grad_ = module.backward(grad_)\n",
        "        return grad_\n",
        "\n",
        "    def update(self, lr):\n",
        "        # print('umpdarw')\n",
        "        for module in self.encoder:\n",
        "            module.update(lr)\n",
        "        for module in self.decoder:\n",
        "            module.update(lr)\n"
      ],
      "metadata": {
        "id": "jS15Q0mZFPbZ"
      },
      "execution_count": 7,
      "outputs": []
    },
    {
      "cell_type": "markdown",
      "source": [
        "### lr = 1e-2, batch = 4, epochs=500"
      ],
      "metadata": {
        "id": "r7257p27lEKN"
      }
    },
    {
      "cell_type": "code",
      "source": [
        "seed=42\n",
        "\n",
        "random.seed(seed)\n",
        "np.random.seed(seed)\n",
        "\n",
        "model = AutoEncoder()\n",
        "\n",
        "batch_size = 4\n",
        "epochs = 500\n",
        "lr = 1e-2\n",
        "loss = MSE()\n",
        "\n",
        "# generate data and create dataloaders\n",
        "data_train = create_data(700)    # 700\n",
        "data_val = create_data(100)\n",
        "\n",
        "dataloader_train = DataLoader(data_train, batch_size)\n",
        "# print(len(dataloader_train))\n",
        "dataloader_val = DataLoader(data_val, batch_size)\n",
        "dataloaders = [dataloader_train, dataloader_val]\n",
        "\n",
        "# train model\n",
        "train_loss, val_loss = train_model(model, loss, lr, epochs, dataloaders)\n",
        "\n",
        "# look at examples\n",
        "data = create_data(100)\n",
        "pred = model.forward(data)\n",
        "x, y = data[:, 0], data[:, 1]\n",
        "x_pred, y_pred = pred[:, 0], pred[:, 1]\n",
        "\n",
        "plt.figure(figsize=(6, 6))\n",
        "plt.scatter(x, y, label='true')\n",
        "plt.scatter(x_pred, y_pred, label='pred')\n",
        "plt.show()\n"
      ],
      "metadata": {
        "colab": {
          "base_uri": "https://localhost:8080/",
          "height": 1000
        },
        "id": "Gb_RJHtEFIQc",
        "outputId": "8728c5ed-42a8-41db-e00f-18fb2f582c5f"
      },
      "execution_count": 13,
      "outputs": [
        {
          "output_type": "stream",
          "name": "stdout",
          "text": [
            "epoch 0, train_loss=0.5001220420887551, val_loss=0.4979126773156428\n",
            "epoch 10, train_loss=0.25667876156859765, val_loss=0.25213433585641304\n",
            "epoch 20, train_loss=0.21037297422591827, val_loss=0.20571042281186303\n",
            "epoch 30, train_loss=0.17294024700834867, val_loss=0.17032247845334642\n",
            "epoch 40, train_loss=0.1482570602190781, val_loss=0.14387861230198973\n",
            "epoch 50, train_loss=0.13052725007916618, val_loss=0.12575181925308698\n",
            "epoch 60, train_loss=0.11651330186924592, val_loss=0.11048882859532988\n",
            "epoch 70, train_loss=0.10623150383932412, val_loss=0.09552330365162756\n",
            "epoch 80, train_loss=0.09294057431509677, val_loss=0.13864465028627498\n",
            "epoch 90, train_loss=0.09067667662185949, val_loss=0.09147696868368296\n",
            "epoch 100, train_loss=0.08234454637241893, val_loss=0.09080587818529323\n",
            "epoch 110, train_loss=0.07156984134349635, val_loss=0.05798196108566358\n",
            "epoch 120, train_loss=0.06298327777831988, val_loss=0.045898527179962796\n",
            "epoch 130, train_loss=0.048362011386243915, val_loss=0.034907408728649274\n",
            "epoch 140, train_loss=0.044985100291732, val_loss=0.03333798632082366\n",
            "epoch 150, train_loss=0.04578201787586659, val_loss=0.03860853412808768\n",
            "epoch 160, train_loss=0.034890828142868556, val_loss=0.03673113414520206\n",
            "epoch 170, train_loss=0.041037985761045115, val_loss=0.0319105241380292\n",
            "epoch 180, train_loss=0.03276302471478488, val_loss=0.016626600198140506\n",
            "epoch 190, train_loss=0.024461244617419296, val_loss=0.016034218844230355\n",
            "epoch 200, train_loss=0.0230636484846523, val_loss=0.012664316682151582\n",
            "epoch 210, train_loss=0.037416238730083665, val_loss=0.024365921253395335\n",
            "epoch 220, train_loss=0.0216648523844381, val_loss=0.013736005522840553\n",
            "epoch 230, train_loss=0.01905837029082743, val_loss=0.013073425804361515\n",
            "epoch 240, train_loss=0.012587329742623672, val_loss=0.004599638559798279\n",
            "epoch 250, train_loss=0.016888016658318475, val_loss=0.008067994671053113\n",
            "epoch 260, train_loss=0.019204181605798343, val_loss=0.010196271996635024\n",
            "epoch 270, train_loss=0.015318097003160915, val_loss=0.008582991779292908\n",
            "epoch 280, train_loss=0.02114518897845876, val_loss=0.005568868939240681\n",
            "epoch 290, train_loss=0.02898462191744479, val_loss=0.017698713600875535\n",
            "epoch 300, train_loss=0.02572619402988254, val_loss=0.016042351176516468\n",
            "epoch 310, train_loss=0.01774524058362637, val_loss=0.027529708942111934\n",
            "epoch 320, train_loss=0.01510415525212266, val_loss=0.0058571985833454476\n",
            "epoch 330, train_loss=0.02175415984219885, val_loss=0.009472560768515728\n",
            "epoch 340, train_loss=0.00823260903141794, val_loss=0.00495387824041645\n",
            "epoch 350, train_loss=0.012511176557326096, val_loss=0.004456017338830657\n",
            "epoch 360, train_loss=0.03548127253212437, val_loss=0.12223043755511634\n",
            "epoch 370, train_loss=0.016847530619746667, val_loss=0.007582287351950124\n",
            "epoch 380, train_loss=0.025124802127838918, val_loss=0.02746721082428869\n",
            "epoch 390, train_loss=0.010340290360544988, val_loss=0.006417608034578733\n",
            "epoch 400, train_loss=0.01777001635292024, val_loss=0.011856031696486507\n",
            "epoch 410, train_loss=0.017593278615758774, val_loss=0.008969729834867275\n",
            "epoch 420, train_loss=0.015051696562184837, val_loss=0.009851142575506431\n",
            "epoch 430, train_loss=0.014610990033598356, val_loss=0.008418963032033419\n",
            "epoch 440, train_loss=0.009538956791223612, val_loss=0.0044790755834838705\n",
            "epoch 450, train_loss=0.00800567369861731, val_loss=0.0041416098491988485\n",
            "epoch 460, train_loss=0.006157032508433606, val_loss=0.02006374986883197\n",
            "epoch 470, train_loss=0.012174041312737045, val_loss=0.004174670655936728\n",
            "epoch 480, train_loss=0.013743690513008382, val_loss=0.014300864292847444\n",
            "epoch 490, train_loss=0.007496306983150688, val_loss=0.008859535806138887\n"
          ]
        },
        {
          "output_type": "display_data",
          "data": {
            "text/plain": [
              "<Figure size 432x432 with 1 Axes>"
            ],
            "image/png": "[encoded data removed]"
          },
          "metadata": {
            "needs_background": "light"
          }
        }
      ]
    },
    {
      "cell_type": "markdown",
      "source": [
        "### lr = 1e-2, batch = 4, epochs=600"
      ],
      "metadata": {
        "id": "bCXg-aGalNS6"
      }
    },
    {
      "cell_type": "code",
      "source": [
        "seed=42\n",
        "\n",
        "random.seed(seed)\n",
        "np.random.seed(seed)\n",
        "\n",
        "model = AutoEncoder()\n",
        "\n",
        "batch_size = 4\n",
        "epochs = 600\n",
        "lr = 1e-2\n",
        "loss = MSE()\n",
        "\n",
        "# generate data and create dataloaders\n",
        "data_train = create_data(700)    # 700\n",
        "data_val = create_data(100)\n",
        "\n",
        "dataloader_train = DataLoader(data_train, batch_size)\n",
        "# print(len(dataloader_train))\n",
        "dataloader_val = DataLoader(data_val, batch_size)\n",
        "dataloaders = [dataloader_train, dataloader_val]\n",
        "\n",
        "# train model\n",
        "train_loss, val_loss = train_model(model, loss, lr, epochs, dataloaders)\n",
        "\n",
        "# look at examples\n",
        "data = create_data(100)\n",
        "pred = model.forward(data)\n",
        "x, y = data[:, 0], data[:, 1]\n",
        "x_pred, y_pred = pred[:, 0], pred[:, 1]\n",
        "\n",
        "plt.figure(figsize=(6, 6))\n",
        "plt.scatter(x, y, label='true')\n",
        "plt.scatter(x_pred, y_pred, label='pred')\n",
        "plt.show()\n"
      ],
      "metadata": {
        "colab": {
          "base_uri": "https://localhost:8080/",
          "height": 1000
        },
        "id": "efC-lzjEFYEf",
        "outputId": "a6e67999-3734-4a39-e57d-45ed634b8491"
      },
      "execution_count": 20,
      "outputs": [
        {
          "output_type": "stream",
          "name": "stdout",
          "text": [
            "epoch 0, train_loss=0.5001220420887551, val_loss=0.4979126773156428\n",
            "epoch 10, train_loss=0.25667876156859765, val_loss=0.25213433585641304\n",
            "epoch 20, train_loss=0.21037297422591827, val_loss=0.20571042281186303\n",
            "epoch 30, train_loss=0.17294024700834867, val_loss=0.17032247845334642\n",
            "epoch 40, train_loss=0.1482570602190781, val_loss=0.14387861230198973\n",
            "epoch 50, train_loss=0.13052725007916618, val_loss=0.12575181925308698\n",
            "epoch 60, train_loss=0.11651330186924592, val_loss=0.11048882859532988\n",
            "epoch 70, train_loss=0.10623150383932412, val_loss=0.09552330365162756\n",
            "epoch 80, train_loss=0.09294057431509677, val_loss=0.13864465028627498\n",
            "epoch 90, train_loss=0.09067667662185949, val_loss=0.09147696868368296\n",
            "epoch 100, train_loss=0.08234454637241893, val_loss=0.09080587818529323\n",
            "epoch 110, train_loss=0.07156984134349635, val_loss=0.05798196108566358\n",
            "epoch 120, train_loss=0.06298327777831988, val_loss=0.045898527179962796\n",
            "epoch 130, train_loss=0.048362011386243915, val_loss=0.034907408728649274\n",
            "epoch 140, train_loss=0.044985100291732, val_loss=0.03333798632082366\n",
            "epoch 150, train_loss=0.04578201787586659, val_loss=0.03860853412808768\n",
            "epoch 160, train_loss=0.034890828142868556, val_loss=0.03673113414520206\n",
            "epoch 170, train_loss=0.041037985761045115, val_loss=0.0319105241380292\n",
            "epoch 180, train_loss=0.03276302471478488, val_loss=0.016626600198140506\n",
            "epoch 190, train_loss=0.024461244617419296, val_loss=0.016034218844230355\n",
            "epoch 200, train_loss=0.0230636484846523, val_loss=0.012664316682151582\n",
            "epoch 210, train_loss=0.037416238730083665, val_loss=0.024365921253395335\n",
            "epoch 220, train_loss=0.0216648523844381, val_loss=0.013736005522840553\n",
            "epoch 230, train_loss=0.01905837029082743, val_loss=0.013073425804361515\n",
            "epoch 240, train_loss=0.012587329742623672, val_loss=0.004599638559798279\n",
            "epoch 250, train_loss=0.016888016658318475, val_loss=0.008067994671053113\n",
            "epoch 260, train_loss=0.019204181605798343, val_loss=0.010196271996635024\n",
            "epoch 270, train_loss=0.015318097003160915, val_loss=0.008582991779292908\n",
            "epoch 280, train_loss=0.02114518897845876, val_loss=0.005568868939240681\n",
            "epoch 290, train_loss=0.02898462191744479, val_loss=0.017698713600875535\n",
            "epoch 300, train_loss=0.02572619402988254, val_loss=0.016042351176516468\n",
            "epoch 310, train_loss=0.01774524058362637, val_loss=0.027529708942111934\n",
            "epoch 320, train_loss=0.01510415525212266, val_loss=0.0058571985833454476\n",
            "epoch 330, train_loss=0.02175415984219885, val_loss=0.009472560768515728\n",
            "epoch 340, train_loss=0.00823260903141794, val_loss=0.00495387824041645\n",
            "epoch 350, train_loss=0.012511176557326096, val_loss=0.004456017338830657\n",
            "epoch 360, train_loss=0.03548127253212437, val_loss=0.12223043755511634\n",
            "epoch 370, train_loss=0.016847530619746667, val_loss=0.007582287351950124\n",
            "epoch 380, train_loss=0.025124802127838918, val_loss=0.02746721082428869\n",
            "epoch 390, train_loss=0.010340290360544988, val_loss=0.006417608034578733\n",
            "epoch 400, train_loss=0.01777001635292024, val_loss=0.011856031696486507\n",
            "epoch 410, train_loss=0.017593278615758774, val_loss=0.008969729834867275\n",
            "epoch 420, train_loss=0.015051696562184837, val_loss=0.009851142575506431\n",
            "epoch 430, train_loss=0.014610990033598356, val_loss=0.008418963032033419\n",
            "epoch 440, train_loss=0.009538956791223612, val_loss=0.0044790755834838705\n",
            "epoch 450, train_loss=0.00800567369861731, val_loss=0.0041416098491988485\n",
            "epoch 460, train_loss=0.006157032508433606, val_loss=0.02006374986883197\n",
            "epoch 470, train_loss=0.012174041312737045, val_loss=0.004174670655936728\n",
            "epoch 480, train_loss=0.013743690513008382, val_loss=0.014300864292847444\n",
            "epoch 490, train_loss=0.007496306983150688, val_loss=0.008859535806138887\n",
            "epoch 500, train_loss=0.019065954995067986, val_loss=0.014448079198281451\n",
            "epoch 510, train_loss=0.008264853951298114, val_loss=0.00739959476891824\n",
            "epoch 520, train_loss=0.02279115601672163, val_loss=0.023292974602587245\n",
            "epoch 530, train_loss=0.017225087500426322, val_loss=0.020283401781918717\n",
            "epoch 540, train_loss=0.01959160457018592, val_loss=0.014677339058739686\n",
            "epoch 550, train_loss=0.01108749911570291, val_loss=0.02035493206974302\n",
            "epoch 560, train_loss=0.011763086558929653, val_loss=0.009213112524715477\n",
            "epoch 570, train_loss=0.0060737408386918644, val_loss=0.004723085298558728\n",
            "epoch 580, train_loss=0.009997139236823488, val_loss=0.00655122232168572\n",
            "epoch 590, train_loss=0.009032076872550162, val_loss=0.008617147170281942\n"
          ]
        },
        {
          "output_type": "display_data",
          "data": {
            "text/plain": [
              "<Figure size 432x432 with 1 Axes>"
            ],
            "image/png": "[encoded data removed]"
          },
          "metadata": {
            "needs_background": "light"
          }
        }
      ]
    },
    {
      "cell_type": "markdown",
      "source": [
        "### lr = 1e-2, batch = 8, epochs=600\n",
        "\n"
      ],
      "metadata": {
        "id": "BtCaCxcGlP1b"
      }
    },
    {
      "cell_type": "code",
      "source": [
        "seed=42\n",
        "\n",
        "random.seed(seed)\n",
        "np.random.seed(seed)\n",
        "\n",
        "model = AutoEncoder()\n",
        "\n",
        "batch_size = 8\n",
        "epochs = 600\n",
        "lr = 1e-2\n",
        "loss = MSE()\n",
        "\n",
        "# generate data and create dataloaders\n",
        "data_train = create_data(700)    # 700\n",
        "data_val = create_data(100)\n",
        "\n",
        "dataloader_train = DataLoader(data_train, batch_size)\n",
        "# print(len(dataloader_train))\n",
        "dataloader_val = DataLoader(data_val, batch_size)\n",
        "dataloaders = [dataloader_train, dataloader_val]\n",
        "\n",
        "# train model\n",
        "train_loss, val_loss = train_model(model, loss, lr, epochs, dataloaders)\n",
        "\n",
        "# look at examples\n",
        "data = create_data(100)\n",
        "pred = model.forward(data)\n",
        "x, y = data[:, 0], data[:, 1]\n",
        "x_pred, y_pred = pred[:, 0], pred[:, 1]\n",
        "\n",
        "plt.figure(figsize=(6, 6))\n",
        "plt.scatter(x, y, label='true')\n",
        "plt.scatter(x_pred, y_pred, label='pred')\n",
        "plt.show()\n"
      ],
      "metadata": {
        "colab": {
          "base_uri": "https://localhost:8080/",
          "height": 1000
        },
        "id": "jWaaz1JYJx9f",
        "outputId": "eb589d6c-890e-4aeb-8794-e8c6d20555ed"
      },
      "execution_count": 27,
      "outputs": [
        {
          "output_type": "stream",
          "name": "stdout",
          "text": [
            "epoch 0, train_loss=0.49977693985566723, val_loss=0.4985017167053386\n",
            "epoch 10, train_loss=0.4778038455382467, val_loss=0.4732444515880537\n",
            "epoch 20, train_loss=0.25650802484881563, val_loss=0.25222192856724107\n",
            "epoch 30, train_loss=0.23573460246306316, val_loss=0.23372469169430796\n",
            "epoch 40, train_loss=0.2102245431793011, val_loss=0.21235991765167972\n",
            "epoch 50, train_loss=0.1843334542309757, val_loss=0.17918076092907426\n",
            "epoch 60, train_loss=0.16888104799617587, val_loss=0.16281970123372458\n",
            "epoch 70, train_loss=0.1575601688362443, val_loss=0.16519251098061655\n",
            "epoch 80, train_loss=0.14514584407827044, val_loss=0.15356945386061938\n",
            "epoch 90, train_loss=0.13725352609425803, val_loss=0.14383782409078358\n",
            "epoch 100, train_loss=0.12855326029892275, val_loss=0.13331055805122624\n",
            "epoch 110, train_loss=0.11747663402602627, val_loss=0.11484497867573305\n",
            "epoch 120, train_loss=0.11229882782318672, val_loss=0.11162600488727518\n",
            "epoch 130, train_loss=0.10495363024400012, val_loss=0.10495778684716596\n",
            "epoch 140, train_loss=0.09671229414562978, val_loss=0.09175646546204692\n",
            "epoch 150, train_loss=0.09831960379973771, val_loss=0.08797604455983521\n",
            "epoch 160, train_loss=0.09050197741484836, val_loss=0.07914510153599906\n",
            "epoch 170, train_loss=0.082754035776609, val_loss=0.09822264385918492\n",
            "epoch 180, train_loss=0.0838300941666824, val_loss=0.06995951506710954\n",
            "epoch 190, train_loss=0.07358097518850276, val_loss=0.13266480663444857\n",
            "epoch 200, train_loss=0.06872037068529488, val_loss=0.06446323849598423\n",
            "epoch 210, train_loss=0.08748062819435004, val_loss=0.0705101705553382\n",
            "epoch 220, train_loss=0.07359957081003986, val_loss=0.06746066916856355\n",
            "epoch 230, train_loss=0.05930386282451547, val_loss=0.04858430981877429\n",
            "epoch 240, train_loss=0.0493953026290261, val_loss=0.048845438504978356\n",
            "epoch 250, train_loss=0.04421970058191977, val_loss=0.061825814600906956\n",
            "epoch 260, train_loss=0.03431982019769228, val_loss=0.030591621538722316\n",
            "epoch 270, train_loss=0.03518405663049656, val_loss=0.039957595397507886\n",
            "epoch 280, train_loss=0.039774543186226044, val_loss=0.05228469946530914\n",
            "epoch 290, train_loss=0.029352795195083218, val_loss=0.0273279683333761\n",
            "epoch 300, train_loss=0.03373165987969389, val_loss=0.027808317063962622\n",
            "epoch 310, train_loss=0.02708208286154606, val_loss=0.02469315515508697\n",
            "epoch 320, train_loss=0.02814787801753683, val_loss=0.03408048980935767\n",
            "epoch 330, train_loss=0.022838381018838894, val_loss=0.024565119090125098\n",
            "epoch 340, train_loss=0.03047625930034851, val_loss=0.04453816165901024\n",
            "epoch 350, train_loss=0.02101209075241309, val_loss=0.016092641219771008\n",
            "epoch 360, train_loss=0.023941441466407566, val_loss=0.050830581192925196\n",
            "epoch 370, train_loss=0.026904814677501422, val_loss=0.01877391336783198\n",
            "epoch 380, train_loss=0.021276809591188803, val_loss=0.018082005498303473\n",
            "epoch 390, train_loss=0.016070899547571352, val_loss=0.023101839170929894\n",
            "epoch 400, train_loss=0.018607547270450244, val_loss=0.006862695144183772\n",
            "epoch 410, train_loss=0.023348918170726596, val_loss=0.026311403719545934\n",
            "epoch 420, train_loss=0.01417214983787554, val_loss=0.00761495673535764\n",
            "epoch 430, train_loss=0.019425315124037813, val_loss=0.020938634768845218\n",
            "epoch 440, train_loss=0.026692655470962466, val_loss=0.05993397519952947\n",
            "epoch 450, train_loss=0.02711962143690169, val_loss=0.024291475318142\n",
            "epoch 460, train_loss=0.016692978192235197, val_loss=0.005593112796748554\n",
            "epoch 470, train_loss=0.022368051998969952, val_loss=0.01901988084286626\n",
            "epoch 480, train_loss=0.01600060826533339, val_loss=0.006662275080178923\n",
            "epoch 490, train_loss=0.011563793988761784, val_loss=0.014518466303431546\n",
            "epoch 500, train_loss=0.013420529670512455, val_loss=0.05617118160891762\n",
            "epoch 510, train_loss=0.024180277378266026, val_loss=0.012035155002910698\n",
            "epoch 520, train_loss=0.013520789084587785, val_loss=0.00796099126757804\n",
            "epoch 530, train_loss=0.012158484244669887, val_loss=0.021210121903173083\n",
            "epoch 540, train_loss=0.011773816822310205, val_loss=0.007426695268523833\n",
            "epoch 550, train_loss=0.016857336570975674, val_loss=0.0202128198182045\n",
            "epoch 560, train_loss=0.009933036543226284, val_loss=0.005528887767890202\n",
            "epoch 570, train_loss=0.02282228152281679, val_loss=0.008721654516086459\n",
            "epoch 580, train_loss=0.011826314529628762, val_loss=0.021548373585314192\n",
            "epoch 590, train_loss=0.01921911508761537, val_loss=0.008624264586548218\n"
          ]
        },
        {
          "output_type": "display_data",
          "data": {
            "text/plain": [
              "<Figure size 432x432 with 1 Axes>"
            ],
            "image/png": "[encoded data removed]"
          },
          "metadata": {
            "needs_background": "light"
          }
        }
      ]
    },
    {
      "cell_type": "markdown",
      "source": [
        "### lr = 1e-2, batch = 8, epochs=351"
      ],
      "metadata": {
        "id": "WGL4xSaXljmz"
      }
    },
    {
      "cell_type": "code",
      "source": [
        "seed=42\n",
        "\n",
        "random.seed(seed)\n",
        "np.random.seed(seed)\n",
        "\n",
        "model = AutoEncoder()\n",
        "\n",
        "batch_size = 4\n",
        "epochs = 351\n",
        "lr = 1e-2\n",
        "loss = MSE()\n",
        "\n",
        "# generate data and create dataloaders\n",
        "data_train = create_data(700)    # 700\n",
        "data_val = create_data(100)\n",
        "\n",
        "dataloader_train = DataLoader(data_train, batch_size)\n",
        "# print(len(dataloader_train))\n",
        "dataloader_val = DataLoader(data_val, batch_size)\n",
        "dataloaders = [dataloader_train, dataloader_val]\n",
        "\n",
        "# train model\n",
        "train_loss, val_loss = train_model(model, loss, lr, epochs, dataloaders)\n",
        "\n",
        "# look at examples\n",
        "data = create_data(100)\n",
        "pred = model.forward(data)\n",
        "x, y = data[:, 0], data[:, 1]\n",
        "x_pred, y_pred = pred[:, 0], pred[:, 1]\n",
        "\n",
        "plt.figure(figsize=(6, 6))\n",
        "plt.scatter(x, y, label='true')\n",
        "plt.scatter(x_pred, y_pred, label='pred')\n",
        "plt.show()\n"
      ],
      "metadata": {
        "colab": {
          "base_uri": "https://localhost:8080/",
          "height": 1000
        },
        "id": "WjD7DhYVIm9i",
        "outputId": "0a81d710-b2b3-4994-d4b3-277f00a44a23"
      },
      "execution_count": 26,
      "outputs": [
        {
          "output_type": "stream",
          "name": "stdout",
          "text": [
            "epoch 0, train_loss=0.5001220420887551, val_loss=0.4979126773156428\n",
            "epoch 10, train_loss=0.25667876156859765, val_loss=0.25213433585641304\n",
            "epoch 20, train_loss=0.21037297422591827, val_loss=0.20571042281186303\n",
            "epoch 30, train_loss=0.17294024700834867, val_loss=0.17032247845334642\n",
            "epoch 40, train_loss=0.1482570602190781, val_loss=0.14387861230198973\n",
            "epoch 50, train_loss=0.13052725007916618, val_loss=0.12575181925308698\n",
            "epoch 60, train_loss=0.11651330186924592, val_loss=0.11048882859532988\n",
            "epoch 70, train_loss=0.10623150383932412, val_loss=0.09552330365162756\n",
            "epoch 80, train_loss=0.09294057431509677, val_loss=0.13864465028627498\n",
            "epoch 90, train_loss=0.09067667662185949, val_loss=0.09147696868368296\n",
            "epoch 100, train_loss=0.08234454637241893, val_loss=0.09080587818529323\n",
            "epoch 110, train_loss=0.07156984134349635, val_loss=0.05798196108566358\n",
            "epoch 120, train_loss=0.06298327777831988, val_loss=0.045898527179962796\n",
            "epoch 130, train_loss=0.048362011386243915, val_loss=0.034907408728649274\n",
            "epoch 140, train_loss=0.044985100291732, val_loss=0.03333798632082366\n",
            "epoch 150, train_loss=0.04578201787586659, val_loss=0.03860853412808768\n",
            "epoch 160, train_loss=0.034890828142868556, val_loss=0.03673113414520206\n",
            "epoch 170, train_loss=0.041037985761045115, val_loss=0.0319105241380292\n",
            "epoch 180, train_loss=0.03276302471478488, val_loss=0.016626600198140506\n",
            "epoch 190, train_loss=0.024461244617419296, val_loss=0.016034218844230355\n",
            "epoch 200, train_loss=0.0230636484846523, val_loss=0.012664316682151582\n",
            "epoch 210, train_loss=0.037416238730083665, val_loss=0.024365921253395335\n",
            "epoch 220, train_loss=0.0216648523844381, val_loss=0.013736005522840553\n",
            "epoch 230, train_loss=0.01905837029082743, val_loss=0.013073425804361515\n",
            "epoch 240, train_loss=0.012587329742623672, val_loss=0.004599638559798279\n",
            "epoch 250, train_loss=0.016888016658318475, val_loss=0.008067994671053113\n",
            "epoch 260, train_loss=0.019204181605798343, val_loss=0.010196271996635024\n",
            "epoch 270, train_loss=0.015318097003160915, val_loss=0.008582991779292908\n",
            "epoch 280, train_loss=0.02114518897845876, val_loss=0.005568868939240681\n",
            "epoch 290, train_loss=0.02898462191744479, val_loss=0.017698713600875535\n",
            "epoch 300, train_loss=0.02572619402988254, val_loss=0.016042351176516468\n",
            "epoch 310, train_loss=0.01774524058362637, val_loss=0.027529708942111934\n",
            "epoch 320, train_loss=0.01510415525212266, val_loss=0.0058571985833454476\n",
            "epoch 330, train_loss=0.02175415984219885, val_loss=0.009472560768515728\n",
            "epoch 340, train_loss=0.00823260903141794, val_loss=0.00495387824041645\n",
            "epoch 350, train_loss=0.012511176557326096, val_loss=0.004456017338830657\n"
          ]
        },
        {
          "output_type": "display_data",
          "data": {
            "text/plain": [
              "<Figure size 432x432 with 1 Axes>"
            ],
            "image/png": "[encoded data removed]"
          },
          "metadata": {
            "needs_background": "light"
          }
        }
      ]
    },
    {
      "cell_type": "markdown",
      "source": [
        "1. lr = 1e-2, batch = 4, epochs=200\n",
        "2. lr = 1e-3, batch = 4, epochs=200"
      ],
      "metadata": {
        "id": "FSfFGEvclYIh"
      }
    },
    {
      "cell_type": "code",
      "source": [
        "seed=42\n",
        "\n",
        "random.seed(seed)\n",
        "np.random.seed(seed)\n",
        "\n",
        "model = AutoEncoder()\n",
        "\n",
        "batch_size = 4\n",
        "epochs = 200\n",
        "lr = 1e-2\n",
        "loss = MSE()\n",
        "\n",
        "# generate data and create dataloaders\n",
        "data_train = create_data(700)    # 700\n",
        "data_val = create_data(100)\n",
        "\n",
        "dataloader_train = DataLoader(data_train, batch_size)\n",
        "# print(len(dataloader_train))\n",
        "dataloader_val = DataLoader(data_val, batch_size)\n",
        "dataloaders = [dataloader_train, dataloader_val]\n",
        "\n",
        "# train model\n",
        "train_loss, val_loss = train_model(model, loss, lr, epochs, dataloaders, print_step=50)\n",
        "\n",
        "# look at examples\n",
        "data = create_data(100)\n",
        "pred = model.forward(data)\n",
        "x, y = data[:, 0], data[:, 1]\n",
        "x_pred, y_pred = pred[:, 0], pred[:, 1]\n",
        "\n",
        "plt.figure(figsize=(6, 6))\n",
        "plt.scatter(x, y, label='true')\n",
        "plt.scatter(x_pred, y_pred, label='pred')\n",
        "plt.show()\n",
        "\n",
        "######\n",
        "\n",
        "\n",
        "batch_size = 4\n",
        "epochs = 200\n",
        "lr = 1e-3\n",
        "\n",
        "train_loss, val_loss = train_model(model, loss, lr, epochs, dataloaders)\n",
        "\n",
        "\n",
        "\n",
        "# look at examples\n",
        "data = create_data(100)\n",
        "pred = model.forward(data)\n",
        "x, y = data[:, 0], data[:, 1]\n",
        "x_pred, y_pred = pred[:, 0], pred[:, 1]\n",
        "\n",
        "plt.figure(figsize=(6, 6))\n",
        "plt.scatter(x, y, label='true')\n",
        "plt.scatter(x_pred, y_pred, label='pred')\n",
        "plt.show()\n"
      ],
      "metadata": {
        "colab": {
          "base_uri": "https://localhost:8080/",
          "height": 1000
        },
        "id": "1YoCx8n5Hkif",
        "outputId": "be600563-0d09-4e2f-94c2-3af02ec5bb44"
      },
      "execution_count": 30,
      "outputs": [
        {
          "output_type": "stream",
          "name": "stdout",
          "text": [
            "epoch 0, train_loss=0.5001220420887551, val_loss=0.4979126773156428\n",
            "epoch 50, train_loss=0.12881548695309455, val_loss=0.12159742382003794\n",
            "epoch 100, train_loss=0.0757540676035958, val_loss=0.09273290428619915\n",
            "epoch 150, train_loss=0.025268063795209707, val_loss=0.02615562062012677\n"
          ]
        },
        {
          "output_type": "display_data",
          "data": {
            "text/plain": [
              "<Figure size 432x432 with 1 Axes>"
            ],
            "image/png": "[encoded data removed]"
          },
          "metadata": {
            "needs_background": "light"
          }
        },
        {
          "output_type": "stream",
          "name": "stdout",
          "text": [
            "epoch 0, train_loss=0.01494751310018313, val_loss=0.01773765528060966\n",
            "epoch 10, train_loss=0.015499148874045786, val_loss=0.015243431734665842\n",
            "epoch 20, train_loss=0.014086528270110586, val_loss=0.007508980021550478\n",
            "epoch 30, train_loss=0.01387942649969356, val_loss=0.017872978290163825\n",
            "epoch 40, train_loss=0.013717610183860229, val_loss=0.02336169788814579\n",
            "epoch 50, train_loss=0.014791439135758944, val_loss=0.018089114119590487\n",
            "epoch 60, train_loss=0.015366815838156196, val_loss=0.006011711069610428\n",
            "epoch 70, train_loss=0.015570440463377326, val_loss=0.005715746406479347\n",
            "epoch 80, train_loss=0.013787476248805348, val_loss=0.00554379798746705\n",
            "epoch 90, train_loss=0.013736235183286255, val_loss=0.0056780362961399945\n",
            "epoch 100, train_loss=0.013801224182163683, val_loss=0.005318381904750667\n",
            "epoch 110, train_loss=0.012171952172792428, val_loss=0.012613011278317422\n",
            "epoch 120, train_loss=0.013648755942287245, val_loss=0.016054667614670268\n",
            "epoch 130, train_loss=0.01378992988650868, val_loss=0.016395560614688144\n",
            "epoch 140, train_loss=0.014250274874550302, val_loss=0.005854814482339139\n",
            "epoch 150, train_loss=0.01313142454996081, val_loss=0.004869325025991852\n",
            "epoch 160, train_loss=0.014752516430222412, val_loss=0.006216802679418979\n",
            "epoch 170, train_loss=0.012700938662508933, val_loss=0.00475311467620442\n",
            "epoch 180, train_loss=0.012270482559050723, val_loss=0.017516700242429975\n",
            "epoch 190, train_loss=0.013412994769358644, val_loss=0.0042868622827402034\n"
          ]
        },
        {
          "output_type": "display_data",
          "data": {
            "text/plain": [
              "<Figure size 432x432 with 1 Axes>"
            ],
            "image/png": "[encoded data removed]"
          },
          "metadata": {
            "needs_background": "light"
          }
        }
      ]
    },
    {
      "cell_type": "code",
      "source": [
        "seed=42\n",
        "\n",
        "random.seed(seed)\n",
        "np.random.seed(seed)\n",
        "\n",
        "model = AutoEncoder()\n",
        "\n",
        "batch_size = 4\n",
        "epochs = 671\n",
        "lr = 1e-2\n",
        "loss = MSE()\n",
        "\n",
        "# generate data and create dataloaders\n",
        "data_train = create_data(700)    # 700\n",
        "data_val = create_data(100)\n",
        "\n",
        "dataloader_train = DataLoader(data_train, batch_size)\n",
        "# print(len(dataloader_train))\n",
        "dataloader_val = DataLoader(data_val, batch_size)\n",
        "dataloaders = [dataloader_train, dataloader_val]\n",
        "\n",
        "# train model\n",
        "train_loss, val_loss = train_model(model, loss, lr, epochs, dataloaders)\n",
        "\n",
        "# look at examples\n",
        "data = create_data(100)\n",
        "pred = model.forward(data)\n",
        "x, y = data[:, 0], data[:, 1]\n",
        "x_pred, y_pred = pred[:, 0], pred[:, 1]\n",
        "\n",
        "plt.figure(figsize=(6, 6))\n",
        "plt.scatter(x, y, label='true')\n",
        "plt.scatter(x_pred, y_pred, label='pred')\n",
        "plt.show()\n"
      ],
      "metadata": {
        "colab": {
          "base_uri": "https://localhost:8080/",
          "height": 1000
        },
        "id": "8JjwE2CFGY5s",
        "outputId": "bb3e3975-19af-47d7-f11f-2a20dbf286b8"
      },
      "execution_count": 22,
      "outputs": [
        {
          "output_type": "stream",
          "name": "stdout",
          "text": [
            "epoch 0, train_loss=0.5001220420887551, val_loss=0.4979126773156428\n",
            "epoch 10, train_loss=0.25667876156859765, val_loss=0.25213433585641304\n",
            "epoch 20, train_loss=0.21037297422591827, val_loss=0.20571042281186303\n",
            "epoch 30, train_loss=0.17294024700834867, val_loss=0.17032247845334642\n",
            "epoch 40, train_loss=0.1482570602190781, val_loss=0.14387861230198973\n",
            "epoch 50, train_loss=0.13052725007916618, val_loss=0.12575181925308698\n",
            "epoch 60, train_loss=0.11651330186924592, val_loss=0.11048882859532988\n",
            "epoch 70, train_loss=0.10623150383932412, val_loss=0.09552330365162756\n",
            "epoch 80, train_loss=0.09294057431509677, val_loss=0.13864465028627498\n",
            "epoch 90, train_loss=0.09067667662185949, val_loss=0.09147696868368296\n",
            "epoch 100, train_loss=0.08234454637241893, val_loss=0.09080587818529323\n",
            "epoch 110, train_loss=0.07156984134349635, val_loss=0.05798196108566358\n",
            "epoch 120, train_loss=0.06298327777831988, val_loss=0.045898527179962796\n",
            "epoch 130, train_loss=0.048362011386243915, val_loss=0.034907408728649274\n",
            "epoch 140, train_loss=0.044985100291732, val_loss=0.03333798632082366\n",
            "epoch 150, train_loss=0.04578201787586659, val_loss=0.03860853412808768\n",
            "epoch 160, train_loss=0.034890828142868556, val_loss=0.03673113414520206\n",
            "epoch 170, train_loss=0.041037985761045115, val_loss=0.0319105241380292\n",
            "epoch 180, train_loss=0.03276302471478488, val_loss=0.016626600198140506\n",
            "epoch 190, train_loss=0.024461244617419296, val_loss=0.016034218844230355\n",
            "epoch 200, train_loss=0.0230636484846523, val_loss=0.012664316682151582\n",
            "epoch 210, train_loss=0.037416238730083665, val_loss=0.024365921253395335\n",
            "epoch 220, train_loss=0.0216648523844381, val_loss=0.013736005522840553\n",
            "epoch 230, train_loss=0.01905837029082743, val_loss=0.013073425804361515\n",
            "epoch 240, train_loss=0.012587329742623672, val_loss=0.004599638559798279\n",
            "epoch 250, train_loss=0.016888016658318475, val_loss=0.008067994671053113\n",
            "epoch 260, train_loss=0.019204181605798343, val_loss=0.010196271996635024\n",
            "epoch 270, train_loss=0.015318097003160915, val_loss=0.008582991779292908\n",
            "epoch 280, train_loss=0.02114518897845876, val_loss=0.005568868939240681\n",
            "epoch 290, train_loss=0.02898462191744479, val_loss=0.017698713600875535\n",
            "epoch 300, train_loss=0.02572619402988254, val_loss=0.016042351176516468\n",
            "epoch 310, train_loss=0.01774524058362637, val_loss=0.027529708942111934\n",
            "epoch 320, train_loss=0.01510415525212266, val_loss=0.0058571985833454476\n",
            "epoch 330, train_loss=0.02175415984219885, val_loss=0.009472560768515728\n",
            "epoch 340, train_loss=0.00823260903141794, val_loss=0.00495387824041645\n",
            "epoch 350, train_loss=0.012511176557326096, val_loss=0.004456017338830657\n",
            "epoch 360, train_loss=0.03548127253212437, val_loss=0.12223043755511634\n",
            "epoch 370, train_loss=0.016847530619746667, val_loss=0.007582287351950124\n",
            "epoch 380, train_loss=0.025124802127838918, val_loss=0.02746721082428869\n",
            "epoch 390, train_loss=0.010340290360544988, val_loss=0.006417608034578733\n",
            "epoch 400, train_loss=0.01777001635292024, val_loss=0.011856031696486507\n",
            "epoch 410, train_loss=0.017593278615758774, val_loss=0.008969729834867275\n",
            "epoch 420, train_loss=0.015051696562184837, val_loss=0.009851142575506431\n",
            "epoch 430, train_loss=0.014610990033598356, val_loss=0.008418963032033419\n",
            "epoch 440, train_loss=0.009538956791223612, val_loss=0.0044790755834838705\n",
            "epoch 450, train_loss=0.00800567369861731, val_loss=0.0041416098491988485\n",
            "epoch 460, train_loss=0.006157032508433606, val_loss=0.02006374986883197\n",
            "epoch 470, train_loss=0.012174041312737045, val_loss=0.004174670655936728\n",
            "epoch 480, train_loss=0.013743690513008382, val_loss=0.014300864292847444\n",
            "epoch 490, train_loss=0.007496306983150688, val_loss=0.008859535806138887\n",
            "epoch 500, train_loss=0.019065954995067986, val_loss=0.014448079198281451\n",
            "epoch 510, train_loss=0.008264853951298114, val_loss=0.00739959476891824\n",
            "epoch 520, train_loss=0.02279115601672163, val_loss=0.023292974602587245\n",
            "epoch 530, train_loss=0.017225087500426322, val_loss=0.020283401781918717\n",
            "epoch 540, train_loss=0.01959160457018592, val_loss=0.014677339058739686\n",
            "epoch 550, train_loss=0.01108749911570291, val_loss=0.02035493206974302\n",
            "epoch 560, train_loss=0.011763086558929653, val_loss=0.009213112524715477\n",
            "epoch 570, train_loss=0.0060737408386918644, val_loss=0.004723085298558728\n",
            "epoch 580, train_loss=0.009997139236823488, val_loss=0.00655122232168572\n",
            "epoch 590, train_loss=0.009032076872550162, val_loss=0.008617147170281942\n",
            "epoch 600, train_loss=0.008099972344201642, val_loss=0.00635171305512373\n",
            "epoch 610, train_loss=0.019984334115661518, val_loss=0.025714357981097488\n",
            "epoch 620, train_loss=0.01929237475203662, val_loss=0.03274897210399398\n",
            "epoch 630, train_loss=0.009554647319112135, val_loss=0.023932943922630612\n",
            "epoch 640, train_loss=0.013458330016788703, val_loss=0.008910557627009782\n",
            "epoch 650, train_loss=0.011763024795332127, val_loss=0.004609993384462805\n",
            "epoch 660, train_loss=0.01001658116381321, val_loss=0.020879754618812783\n",
            "epoch 670, train_loss=0.010988824372140318, val_loss=0.008416056362901289\n"
          ]
        },
        {
          "output_type": "display_data",
          "data": {
            "text/plain": [
              "<Figure size 432x432 with 1 Axes>"
            ],
            "image/png": "[encoded data removed]"
          },
          "metadata": {
            "needs_background": "light"
          }
        }
      ]
    },
    {
      "cell_type": "code",
      "source": [
        ""
      ],
      "metadata": {
        "id": "6VHVR7V9HMn7"
      },
      "execution_count": null,
      "outputs": []
    }
  ]
}