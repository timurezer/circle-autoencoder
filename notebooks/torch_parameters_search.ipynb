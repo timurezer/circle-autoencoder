{
  "nbformat": 4,
  "nbformat_minor": 0,
  "metadata": {
    "colab": {
      "name": "torch_parameters_search.ipynb",
      "provenance": [],
      "toc_visible": true
    },
    "kernelspec": {
      "name": "python3",
      "display_name": "Python 3"
    },
    "language_info": {
      "name": "python"
    },
    "gpuClass": "standard"
  },
  "cells": [
    {
      "cell_type": "code",
      "source": [
        "import os\n",
        "import sys\n",
        "import numpy as np\n",
        "import pandas as pd\n",
        "import torch\n",
        "from torch import nn\n",
        "from torch.optim import Adam\n",
        "from torch.utils.data import Dataset, DataLoader\n",
        "from torch.optim import Adam\n",
        "import torch.nn.functional as F\n",
        "import matplotlib.pyplot as plt\n",
        "from sklearn.metrics import roc_auc_score, accuracy_score, precision_score, recall_score, f1_score\n",
        "\n",
        "import random"
      ],
      "metadata": {
        "id": "E56SDR6kis1_"
      },
      "execution_count": 1,
      "outputs": []
    },
    {
      "cell_type": "code",
      "source": [
        "seed=42"
      ],
      "metadata": {
        "id": "AHJEPqqai_7m"
      },
      "execution_count": 2,
      "outputs": []
    },
    {
      "cell_type": "markdown",
      "source": [
        "# Code"
      ],
      "metadata": {
        "id": "jhSb7Evvec5S"
      }
    },
    {
      "cell_type": "code",
      "source": [
        "def create_data(n, noise=False, sigma=0.1):\n",
        "    # creade set of points at circle with R=1\n",
        "    phi = 2 * np.pi * np.arange(n) / n    # np.random.rand(n) # np.arange(n) / n\n",
        "    x, y = np.cos(phi), np.sin(phi)\n",
        "    if noise:\n",
        "        x += np.random.normal(0, sigma, n)\n",
        "        y += np.random.normal(0, sigma, n)\n",
        "    data = np.hstack((x.reshape(-1, 1), y.reshape(-1, 1)))\n",
        "    return data\n",
        "\n",
        "class MyDataset(Dataset):\n",
        "    def __init__(self, data):\n",
        "        self.data = data\n",
        "\n",
        "    def __getitem__(self, item):\n",
        "        return self.data[item]\n",
        "\n",
        "    def __len__(self):\n",
        "        return len(self.data)\n",
        "\n",
        "def single_pass(model, dataloader, loss_func, device, optim=None):\n",
        "    loss_count = 0\n",
        "    for i, data in enumerate(dataloader):\n",
        "        data = data.float().to(device)\n",
        "        pred = model.forward(data)\n",
        "        loss = loss_func(pred, data)    ####\n",
        "        loss_count += loss.item()\n",
        "\n",
        "        if optim is not None:\n",
        "            loss.backward()\n",
        "            optim.step()\n",
        "            optim.zero_grad()\n",
        "    return loss_count / len(dataloader)\n",
        "\n",
        "def train_model(model, loss, optim, epochs, device, datas, print_step=10):\n",
        "    data_train, data_val = datas\n",
        "    dataloader_train = DataLoader(MyDataset(data_train), batch_size, shuffle=True)\n",
        "    dataloader_val = DataLoader(MyDataset(data_val), batch_size, shuffle=True)\n",
        "    train_loss_all, val_loss_all = [], []\n",
        "    # training loop\n",
        "    for epoch in range(epochs):\n",
        "        # train\n",
        "        train_loss = single_pass(model, dataloader_train, loss, device, optim)\n",
        "        \n",
        "        if epoch % print_step == 0:\n",
        "            # validation\n",
        "            with torch.no_grad():\n",
        "                val_loss = single_pass(model, dataloader_val, loss, device)\n",
        "            print(\n",
        "                f'epoch {epoch}, train_loss={train_loss}, val_loss={val_loss}')\n",
        "\n",
        "            train_loss_all.append(train_loss)\n",
        "            val_loss_all.append(val_loss)\n",
        "\n",
        "    return train_loss_all, val_loss_all\n"
      ],
      "metadata": {
        "id": "uw2vBZ9zirkR"
      },
      "execution_count": 3,
      "outputs": []
    },
    {
      "cell_type": "code",
      "source": [
        "def print_examples(model):\n",
        "    data = create_data(100)\n",
        "    with torch.no_grad():\n",
        "        pred = model.forward(torch.tensor(data).float().to(device)).detach().cpu().numpy()\n",
        "    x, y = data[:, 0], data[:, 1]\n",
        "    x_pred, y_pred = pred[:, 0], pred[:, 1]\n",
        "\n",
        "    plt.figure(figsize=(6, 6))\n",
        "    plt.scatter(x, y, label='true')\n",
        "    plt.scatter(x_pred, y_pred, label='pred')\n",
        "    plt.show()"
      ],
      "metadata": {
        "id": "ywpPMjMNjDq0"
      },
      "execution_count": 4,
      "outputs": []
    },
    {
      "cell_type": "markdown",
      "source": [
        "# 2слоя, 16 узлов"
      ],
      "metadata": {
        "id": "i9ZJCC1F7w6n"
      }
    },
    {
      "cell_type": "code",
      "source": [
        "class AutoEncoder(nn.Module):\n",
        "    def __init__(self):\n",
        "        super().__init__()\n",
        "        self.encoder = nn.Sequential(\n",
        "            nn.Linear(2, 16),\n",
        "            nn.ReLU(),\n",
        "            # nn.Linear(64, 64),\n",
        "            # nn.ReLU(),\n",
        "            nn.Linear(16, 1),\n",
        "            nn.ReLU()\n",
        "        )\n",
        "        self.decoder = nn.Sequential(\n",
        "            nn.Linear(1, 16),\n",
        "            nn.ReLU(),\n",
        "            # nn.Linear(64, 64),\n",
        "            # nn.ReLU(),\n",
        "            nn.Linear(16, 2),\n",
        "            nn.Tanh()\n",
        "        )\n",
        "\n",
        "    def forward(self, x):\n",
        "        y = self.encoder(x)\n",
        "        z = self.decoder(y)\n",
        "        return z"
      ],
      "metadata": {
        "id": "f1yQM8L-ixfm"
      },
      "execution_count": null,
      "outputs": []
    },
    {
      "cell_type": "markdown",
      "source": [
        "## batch = 8"
      ],
      "metadata": {
        "id": "TO7sazgX72Sh"
      }
    },
    {
      "cell_type": "code",
      "source": [
        "torch.manual_seed(seed)\n",
        "random.seed(seed)\n",
        "np.random.seed(seed)\n",
        "\n",
        "model = AutoEncoder()\n",
        "device = torch.device('cuda' if torch.cuda.is_available() else 'cpu')\n",
        "model.to(device)\n",
        "\n",
        "batch_size = 8\n",
        "epochs = 300\n",
        "lr = 1e-2\n",
        "optim = Adam(model.parameters(), lr=lr)\n",
        "loss = F.mse_loss\n",
        "\n",
        "# generate data and create data\n",
        "data_train = create_data(700)\n",
        "data_val = create_data(100)\n",
        "datas = [data_train, data_val]\n",
        "\n",
        "# train model\n",
        "train_loss, val_loss = train_model(model, loss, optim, epochs, device, datas)\n",
        "\n",
        "# look at examples\n",
        "print_examples(model)"
      ],
      "metadata": {
        "colab": {
          "base_uri": "https://localhost:8080/",
          "height": 907
        },
        "id": "NHa6KGJti2F_",
        "outputId": "399ae5ce-6a1a-4461-8553-e4e2cb58c46e"
      },
      "execution_count": null,
      "outputs": [
        {
          "output_type": "stream",
          "name": "stdout",
          "text": [
            "epoch 0, train_loss=0.29207090119069273, val_loss=0.2509973507661086\n",
            "epoch 10, train_loss=0.10608210492963818, val_loss=0.0931016870129567\n",
            "epoch 20, train_loss=0.07837384233293547, val_loss=0.06822071195794986\n",
            "epoch 30, train_loss=0.09536461313043466, val_loss=0.08680049143731594\n",
            "epoch 40, train_loss=0.09887290597808632, val_loss=0.08906744621120967\n",
            "epoch 50, train_loss=0.08790094592338639, val_loss=0.06737080087455419\n",
            "epoch 60, train_loss=0.05846621907337315, val_loss=0.06612693002590767\n",
            "epoch 70, train_loss=0.05876795845688321, val_loss=0.06353625798454651\n",
            "epoch 80, train_loss=0.0750673785594038, val_loss=0.13593664965950525\n",
            "epoch 90, train_loss=0.06754133476748723, val_loss=0.08719004418414372\n",
            "epoch 100, train_loss=0.04778904755155302, val_loss=0.045709898337148704\n",
            "epoch 110, train_loss=0.07910577323160727, val_loss=0.04692101055899492\n",
            "epoch 120, train_loss=0.04584694381760941, val_loss=0.04047598668302481\n",
            "epoch 130, train_loss=0.044660235252443024, val_loss=0.053386784749678694\n",
            "epoch 140, train_loss=0.0538664863481906, val_loss=0.0470859797922178\n",
            "epoch 150, train_loss=0.03159129849783229, val_loss=0.03549892799212383\n",
            "epoch 160, train_loss=0.06541987834498286, val_loss=0.05571355763822794\n",
            "epoch 170, train_loss=0.06096485354514285, val_loss=0.10942462315926185\n",
            "epoch 180, train_loss=0.07289314679589799, val_loss=0.05395957361906767\n",
            "epoch 190, train_loss=0.04825489354764365, val_loss=0.043575567264969535\n",
            "epoch 200, train_loss=0.04713524033484811, val_loss=0.037902375181707054\n",
            "epoch 210, train_loss=0.04518773677938787, val_loss=0.0415409581305889\n",
            "epoch 220, train_loss=0.04571007550111972, val_loss=0.04912146804137872\n",
            "epoch 230, train_loss=0.038504932694856754, val_loss=0.05067732733172866\n",
            "epoch 240, train_loss=0.03744446117409759, val_loss=0.03312414712630785\n",
            "epoch 250, train_loss=0.05802253777404654, val_loss=0.03533900221093343\n",
            "epoch 260, train_loss=0.047827184896132996, val_loss=0.03764392485698828\n",
            "epoch 270, train_loss=0.06421508591500408, val_loss=0.036889451842468515\n",
            "epoch 280, train_loss=0.03273088322814808, val_loss=0.030986778921662614\n",
            "epoch 290, train_loss=0.0327092022899623, val_loss=0.01985706709540234\n"
          ]
        },
        {
          "output_type": "display_data",
          "data": {
            "text/plain": [
              "<Figure size 432x432 with 1 Axes>"
            ],
            "image/png": "[encoded data removed]"
          },
          "metadata": {
            "needs_background": "light"
          }
        }
      ]
    },
    {
      "cell_type": "markdown",
      "source": [
        "## batch = 128\n"
      ],
      "metadata": {
        "id": "rrTcoqjU75tz"
      }
    },
    {
      "cell_type": "code",
      "source": [
        "torch.manual_seed(seed)\n",
        "random.seed(seed)\n",
        "np.random.seed(seed)\n",
        "\n",
        "model = AutoEncoder()\n",
        "device = torch.device('cuda' if torch.cuda.is_available() else 'cpu')\n",
        "model.to(device)\n",
        "\n",
        "batch_size = 128\n",
        "epochs = 151\n",
        "lr = 1e-1\n",
        "optim = Adam(model.parameters(), lr=lr)\n",
        "loss = F.mse_loss\n",
        "\n",
        "# generate data and create dataloaders\n",
        "data_train = create_data(700)\n",
        "data_val = create_data(100)\n",
        "datas = [data_train, data_val]\n",
        "\n",
        "# train model\n",
        "train_loss, val_loss = train_model(model, loss, optim, epochs, device, datas)\n",
        "\n",
        "# look at examples\n",
        "print_examples(model)"
      ],
      "metadata": {
        "colab": {
          "base_uri": "https://localhost:8080/",
          "height": 658
        },
        "id": "trVvyp3InKbv",
        "outputId": "56001b92-cd39-480e-8582-66f9671f3c35"
      },
      "execution_count": null,
      "outputs": [
        {
          "output_type": "stream",
          "name": "stdout",
          "text": [
            "epoch 0, train_loss=0.4396754602591197, val_loss=0.31097710132598877\n",
            "epoch 10, train_loss=0.23387032002210617, val_loss=0.22844377160072327\n",
            "epoch 20, train_loss=0.08709479247530301, val_loss=0.0940280556678772\n",
            "epoch 30, train_loss=0.08856283438702424, val_loss=0.08666198700666428\n",
            "epoch 40, train_loss=0.07916148131092389, val_loss=0.07678612321615219\n",
            "epoch 50, train_loss=0.08778011053800583, val_loss=0.09540652483701706\n",
            "epoch 60, train_loss=0.060389971981445946, val_loss=0.05882536992430687\n",
            "epoch 70, train_loss=0.05587731239696344, val_loss=0.06356197595596313\n",
            "epoch 80, train_loss=0.1213423324127992, val_loss=0.10751845687627792\n",
            "epoch 90, train_loss=0.07215442135930061, val_loss=0.08224745839834213\n",
            "epoch 100, train_loss=0.05039152813454469, val_loss=0.04300970211625099\n",
            "epoch 110, train_loss=0.04950686047474543, val_loss=0.041462671011686325\n",
            "epoch 120, train_loss=0.040689507499337196, val_loss=0.03234197571873665\n",
            "epoch 130, train_loss=0.06811367596189181, val_loss=0.062435850501060486\n",
            "epoch 140, train_loss=0.044805241748690605, val_loss=0.040088556706905365\n",
            "epoch 150, train_loss=0.031398530739049114, val_loss=0.021130695939064026\n"
          ]
        },
        {
          "output_type": "display_data",
          "data": {
            "text/plain": [
              "<Figure size 432x432 with 1 Axes>"
            ],
            "image/png": "[encoded data removed]"
          },
          "metadata": {
            "needs_background": "light"
          }
        }
      ]
    },
    {
      "cell_type": "markdown",
      "source": [
        "# 2 слоя, 16 узлов, без Tanh"
      ],
      "metadata": {
        "id": "M43O27EMuDxd"
      }
    },
    {
      "cell_type": "code",
      "source": [
        "class AutoEncoder(nn.Module):\n",
        "    def __init__(self):\n",
        "        super().__init__()\n",
        "        self.encoder = nn.Sequential(\n",
        "            nn.Linear(2, 16),\n",
        "            nn.ReLU(),\n",
        "            # nn.Linear(64, 64),\n",
        "            # nn.ReLU(),\n",
        "            nn.Linear(16, 1),\n",
        "            nn.ReLU()\n",
        "        )\n",
        "        self.decoder = nn.Sequential(\n",
        "            nn.Linear(1, 16),\n",
        "            nn.ReLU(),\n",
        "            # nn.Linear(64, 64),\n",
        "            # nn.ReLU(),\n",
        "            nn.Linear(16, 2),\n",
        "            # nn.Tanh()\n",
        "        )\n",
        "\n",
        "    def forward(self, x):\n",
        "        y = self.encoder(x)\n",
        "        z = self.decoder(y)\n",
        "        return z\n",
        "\n",
        "\n",
        "print('number of params:', sum(p.numel() for p in AutoEncoder().parameters()))\n"
      ],
      "metadata": {
        "colab": {
          "base_uri": "https://localhost:8080/"
        },
        "id": "1eD-XMuvrpN1",
        "outputId": "5bef5a09-bf6a-4d1c-aab5-6d8200603645"
      },
      "execution_count": null,
      "outputs": [
        {
          "output_type": "stream",
          "name": "stdout",
          "text": [
            "number of params: 131\n"
          ]
        }
      ]
    },
    {
      "cell_type": "markdown",
      "source": [
        "## batch = 8"
      ],
      "metadata": {
        "id": "GwklKTfm-eF-"
      }
    },
    {
      "cell_type": "code",
      "source": [
        "torch.manual_seed(seed)\n",
        "random.seed(seed)\n",
        "np.random.seed(seed)\n",
        "\n",
        "model = AutoEncoder()\n",
        "device = torch.device('cuda' if torch.cuda.is_available() else 'cpu')\n",
        "model.to(device)\n",
        "\n",
        "batch_size = 8\n",
        "epochs = 281\n",
        "lr = 1e-2\n",
        "optim = Adam(model.parameters(), lr=lr)\n",
        "loss = F.mse_loss\n",
        "\n",
        "# generate data and create data\n",
        "data_train = create_data(700)\n",
        "data_val = create_data(100)\n",
        "datas = [data_train, data_val]\n",
        "\n",
        "# train model\n",
        "train_loss, val_loss = train_model(model, loss, optim, epochs, device, datas)\n",
        "\n",
        "# look at examples\n",
        "print_examples(model)"
      ],
      "metadata": {
        "colab": {
          "base_uri": "https://localhost:8080/",
          "height": 890
        },
        "id": "l4wt4rC1r5eA",
        "outputId": "f127f4b4-9e23-4f3d-aba0-2f255005c0e7"
      },
      "execution_count": null,
      "outputs": [
        {
          "output_type": "stream",
          "name": "stdout",
          "text": [
            "epoch 0, train_loss=0.2916134927760471, val_loss=0.25077299773693085\n",
            "epoch 10, train_loss=0.11428924660537053, val_loss=0.1107844183078179\n",
            "epoch 20, train_loss=0.08705124601891095, val_loss=0.08510948345065117\n",
            "epoch 30, train_loss=0.0794116608608006, val_loss=0.07258473565945259\n",
            "epoch 40, train_loss=0.06479092564603145, val_loss=0.065283820606195\n",
            "epoch 50, train_loss=0.07061541422312571, val_loss=0.06451815972104669\n",
            "epoch 60, train_loss=0.07089584629284218, val_loss=0.06561787358413522\n",
            "epoch 70, train_loss=0.040388204109727995, val_loss=0.03524501886791908\n",
            "epoch 80, train_loss=0.038143035942498085, val_loss=0.03707770258188248\n",
            "epoch 90, train_loss=0.032983735246075827, val_loss=0.04071113750195274\n",
            "epoch 100, train_loss=0.0356876186190427, val_loss=0.02992427972360299\n",
            "epoch 110, train_loss=0.030002735258842058, val_loss=0.03545405565259548\n",
            "epoch 120, train_loss=0.05373458298378286, val_loss=0.05656998715578364\n",
            "epoch 130, train_loss=0.05290678192184053, val_loss=0.04434740056212132\n",
            "epoch 140, train_loss=0.025920510490488432, val_loss=0.03167783830744716\n",
            "epoch 150, train_loss=0.04290471514898606, val_loss=0.03461703174532606\n",
            "epoch 160, train_loss=0.04744830238632858, val_loss=0.06274350924202456\n",
            "epoch 170, train_loss=0.059814134819052095, val_loss=0.06717929057776928\n",
            "epoch 180, train_loss=0.0609805121044205, val_loss=0.048434642573388725\n",
            "epoch 190, train_loss=0.06429303958165375, val_loss=0.04866245575249195\n",
            "epoch 200, train_loss=0.07013178959393619, val_loss=0.07065626183668008\n",
            "epoch 210, train_loss=0.027259823006302628, val_loss=0.0387287546450702\n",
            "epoch 220, train_loss=0.025635032597082583, val_loss=0.02260431367903948\n",
            "epoch 230, train_loss=0.034257382053924215, val_loss=0.034430540166795254\n",
            "epoch 240, train_loss=0.033860779949463904, val_loss=0.040591954199883803\n",
            "epoch 250, train_loss=0.042932952632492576, val_loss=0.031089156937713806\n",
            "epoch 260, train_loss=0.05311759706025689, val_loss=0.05058361525432421\n",
            "epoch 270, train_loss=0.015847943754951386, val_loss=0.01493957144423173\n",
            "epoch 280, train_loss=0.02202059326836289, val_loss=0.012414937283700475\n"
          ]
        },
        {
          "output_type": "display_data",
          "data": {
            "text/plain": [
              "<Figure size 432x432 with 1 Axes>"
            ],
            "image/png": "[encoded data removed]"
          },
          "metadata": {
            "needs_background": "light"
          }
        }
      ]
    },
    {
      "cell_type": "markdown",
      "source": [
        "## batch = 128"
      ],
      "metadata": {
        "id": "Mx7Ajnw--jOv"
      }
    },
    {
      "cell_type": "code",
      "source": [
        "torch.manual_seed(seed)\n",
        "random.seed(seed)\n",
        "np.random.seed(seed)\n",
        "\n",
        "model = AutoEncoder()\n",
        "device = torch.device('cuda' if torch.cuda.is_available() else 'cpu')\n",
        "model.to(device)\n",
        "\n",
        "batch_size = 128\n",
        "epochs = 331\n",
        "lr = 1e-2\n",
        "optim = Adam(model.parameters(), lr=lr)\n",
        "loss = F.mse_loss\n",
        "\n",
        "# generate data and create data\n",
        "data_train = create_data(700)\n",
        "data_val = create_data(100)\n",
        "datas = [data_train, data_val]\n",
        "\n",
        "# train model\n",
        "train_loss, val_loss = train_model(model, loss, optim, epochs, device, datas)\n",
        "\n",
        "# look at examples\n",
        "print_examples(model)"
      ],
      "metadata": {
        "colab": {
          "base_uri": "https://localhost:8080/",
          "height": 978
        },
        "id": "sJF17nOUrz0W",
        "outputId": "b463ee49-f686-4801-f35f-edfe83ffadb9"
      },
      "execution_count": null,
      "outputs": [
        {
          "output_type": "stream",
          "name": "stdout",
          "text": [
            "epoch 0, train_loss=0.505521739522616, val_loss=0.4339248538017273\n",
            "epoch 10, train_loss=0.23787726213534674, val_loss=0.23925843834877014\n",
            "epoch 20, train_loss=0.1802963688969612, val_loss=0.17752531170845032\n",
            "epoch 30, train_loss=0.14333439618349075, val_loss=0.14119578897953033\n",
            "epoch 40, train_loss=0.12083262950181961, val_loss=0.12215310335159302\n",
            "epoch 50, train_loss=0.10567646597822507, val_loss=0.10951938480138779\n",
            "epoch 60, train_loss=0.09777332718173663, val_loss=0.09596296399831772\n",
            "epoch 70, train_loss=0.0890791155397892, val_loss=0.08858567476272583\n",
            "epoch 80, train_loss=0.07876210597654183, val_loss=0.08179084956645966\n",
            "epoch 90, train_loss=0.0722117933134238, val_loss=0.07195430994033813\n",
            "epoch 100, train_loss=0.06671151580909888, val_loss=0.07065649330615997\n",
            "epoch 110, train_loss=0.06068250288565954, val_loss=0.057626720517873764\n",
            "epoch 120, train_loss=0.05565637101729711, val_loss=0.054174989461898804\n",
            "epoch 130, train_loss=0.052936311811208725, val_loss=0.052012745290994644\n",
            "epoch 140, train_loss=0.04864137340337038, val_loss=0.04738077521324158\n",
            "epoch 150, train_loss=0.05226494278758764, val_loss=0.043429769575595856\n",
            "epoch 160, train_loss=0.043216751577953495, val_loss=0.04267779737710953\n",
            "epoch 170, train_loss=0.043504791955153145, val_loss=0.04289504140615463\n",
            "epoch 180, train_loss=0.04034614749252796, val_loss=0.04061436653137207\n",
            "epoch 190, train_loss=0.04155489554007848, val_loss=0.03831847012042999\n",
            "epoch 200, train_loss=0.05786614492535591, val_loss=0.05785783380270004\n",
            "epoch 210, train_loss=0.0469476900373896, val_loss=0.04748886078596115\n",
            "epoch 220, train_loss=0.03995013330131769, val_loss=0.043535370379686356\n",
            "epoch 230, train_loss=0.03739763672153155, val_loss=0.039388954639434814\n",
            "epoch 240, train_loss=0.03539981429154674, val_loss=0.03191106393933296\n",
            "epoch 250, train_loss=0.03841606496522824, val_loss=0.03528115525841713\n",
            "epoch 260, train_loss=0.03110829337189595, val_loss=0.02955598384141922\n",
            "epoch 270, train_loss=0.03535873753329118, val_loss=0.03506941348314285\n",
            "epoch 280, train_loss=0.03971772982428471, val_loss=0.049258098006248474\n",
            "epoch 290, train_loss=0.03059286220620076, val_loss=0.024362053722143173\n",
            "epoch 300, train_loss=0.030667036771774292, val_loss=0.030839474871754646\n",
            "epoch 310, train_loss=0.028468800242990255, val_loss=0.026238365098834038\n",
            "epoch 320, train_loss=0.026244977644334238, val_loss=0.030965637415647507\n",
            "epoch 330, train_loss=0.029123598088820774, val_loss=0.020085789263248444\n"
          ]
        },
        {
          "output_type": "display_data",
          "data": {
            "text/plain": [
              "<Figure size 432x432 with 1 Axes>"
            ],
            "image/png": "[encoded data removed]"
          },
          "metadata": {
            "needs_background": "light"
          }
        }
      ]
    },
    {
      "cell_type": "markdown",
      "source": [
        "# 3 слоя, 6 узлов"
      ],
      "metadata": {
        "id": "J1NbOuDoDMIf"
      }
    },
    {
      "cell_type": "code",
      "source": [
        "class AutoEncoder(nn.Module):\n",
        "    def __init__(self, h=6):\n",
        "        super().__init__()\n",
        "        self.encoder = nn.Sequential(\n",
        "            nn.Linear(2, h),\n",
        "            nn.ReLU(),\n",
        "            nn.Linear(h, h),\n",
        "            nn.ReLU(),\n",
        "            nn.Linear(h, 1),\n",
        "            nn.ReLU()\n",
        "        )\n",
        "        self.decoder = nn.Sequential(\n",
        "            nn.Linear(1, h),\n",
        "            nn.ReLU(),\n",
        "            nn.Linear(h, h),\n",
        "            nn.ReLU(),\n",
        "            nn.Linear(h, 2),\n",
        "            nn.Tanh()\n",
        "        )\n",
        "\n",
        "    def forward(self, x):\n",
        "        y = self.encoder(x)\n",
        "        z = self.decoder(y)\n",
        "        return z\n",
        "  \n",
        "print('number of params:', sum(p.numel() for p in AutoEncoder().parameters()))\n",
        "\n"
      ],
      "metadata": {
        "colab": {
          "base_uri": "https://localhost:8080/"
        },
        "id": "iU8tHL-0DLz6",
        "outputId": "b87845aa-e80f-45ed-f3a3-de16086bdea2"
      },
      "execution_count": null,
      "outputs": [
        {
          "output_type": "stream",
          "name": "stdout",
          "text": [
            "number of params: 135\n"
          ]
        }
      ]
    },
    {
      "cell_type": "code",
      "source": [
        "torch.manual_seed(seed)\n",
        "random.seed(seed)\n",
        "np.random.seed(seed)\n",
        "\n",
        "model = AutoEncoder()\n",
        "device = torch.device('cuda' if torch.cuda.is_available() else 'cpu')\n",
        "model.to(device)\n",
        "\n",
        "batch_size = 16\n",
        "epochs = 500\n",
        "lr = 1e-2\n",
        "optim = Adam(model.parameters(), lr=lr)\n",
        "loss = F.mse_loss\n",
        "\n",
        "# generate data and create data\n",
        "data_train = create_data(700)\n",
        "data_val = create_data(100)\n",
        "datas = [data_train, data_val]\n",
        "\n",
        "# train model\n",
        "train_loss, val_loss = train_model(model, loss, optim, epochs, device, datas)\n",
        "\n",
        "# look at examples\n",
        "print_examples(model)"
      ],
      "metadata": {
        "colab": {
          "base_uri": "https://localhost:8080/",
          "height": 1000
        },
        "id": "6gfrbTq2DUj5",
        "outputId": "acafdd6f-1feb-4b80-93c4-ee8fe5d49ccf"
      },
      "execution_count": null,
      "outputs": [
        {
          "output_type": "stream",
          "name": "stdout",
          "text": [
            "epoch 0, train_loss=0.44209835813804105, val_loss=0.3130351986203875\n",
            "epoch 10, train_loss=0.25302375040271063, val_loss=0.2420226527111871\n",
            "epoch 20, train_loss=0.2517371953211047, val_loss=0.23874335416725703\n",
            "epoch 30, train_loss=0.2497854818674651, val_loss=0.26773043402603697\n",
            "epoch 40, train_loss=0.24779789691621606, val_loss=0.22574795356818608\n",
            "epoch 50, train_loss=0.2288258024914698, val_loss=0.21228911301919393\n",
            "epoch 60, train_loss=0.21530960449440914, val_loss=0.22463469633034297\n",
            "epoch 70, train_loss=0.20664840428666634, val_loss=0.20434491762093135\n",
            "epoch 80, train_loss=0.20564373074607414, val_loss=0.19495409301349095\n",
            "epoch 90, train_loss=0.2055188464847478, val_loss=0.20736008882522583\n",
            "epoch 100, train_loss=0.20376177233728496, val_loss=0.20146260729857854\n",
            "epoch 110, train_loss=0.2145830299705267, val_loss=0.24242032638617925\n",
            "epoch 120, train_loss=0.21179264902391218, val_loss=0.19287667024348462\n",
            "epoch 130, train_loss=0.20335899801416832, val_loss=0.17918460550052778\n",
            "epoch 140, train_loss=0.2026151308620518, val_loss=0.18265086093119212\n",
            "epoch 150, train_loss=0.20885978622192686, val_loss=0.2068293115922383\n",
            "epoch 160, train_loss=0.1767793573777784, val_loss=0.13012809040290968\n",
            "epoch 170, train_loss=0.06367690446363254, val_loss=0.06354483775794506\n",
            "epoch 180, train_loss=0.04230437209745022, val_loss=0.045578029938042164\n",
            "epoch 190, train_loss=0.04112541291397065, val_loss=0.03481073650930609\n",
            "epoch 200, train_loss=0.025393526725979013, val_loss=0.019904498010873795\n",
            "epoch 210, train_loss=0.026679038313556124, val_loss=0.031164434339318956\n",
            "epoch 220, train_loss=0.02008456974925304, val_loss=0.018160588507141386\n",
            "epoch 230, train_loss=0.035089522494341836, val_loss=0.03512141068599054\n",
            "epoch 240, train_loss=0.04173732815649022, val_loss=0.04489052787955318\n",
            "epoch 250, train_loss=0.04842878395522183, val_loss=0.046530312592429776\n",
            "epoch 260, train_loss=0.03682345948817039, val_loss=0.04047031650718834\n",
            "epoch 270, train_loss=0.037556303654458716, val_loss=0.0323648958333901\n",
            "epoch 280, train_loss=0.036660464078357276, val_loss=0.029139517340809107\n",
            "epoch 290, train_loss=0.033570570765401826, val_loss=0.028272504319569895\n",
            "epoch 300, train_loss=0.04914817825721746, val_loss=0.04597728167261396\n",
            "epoch 310, train_loss=0.03217453538143838, val_loss=0.026585330787513937\n",
            "epoch 320, train_loss=0.02257566488961774, val_loss=0.03260754341525691\n",
            "epoch 330, train_loss=0.01917470728089525, val_loss=0.01646069503788437\n",
            "epoch 340, train_loss=0.01933413731272925, val_loss=0.03844996488520077\n",
            "epoch 350, train_loss=0.02430493429049172, val_loss=0.018002125501100506\n",
            "epoch 360, train_loss=0.016852457743053408, val_loss=0.0243467674258032\n",
            "epoch 370, train_loss=0.02267745613459159, val_loss=0.022375531627663543\n",
            "epoch 380, train_loss=0.018361403125295925, val_loss=0.026536617494587387\n",
            "epoch 390, train_loss=0.018062550214711915, val_loss=0.021685961900012835\n",
            "epoch 400, train_loss=0.023378322789953512, val_loss=0.01530992505805833\n",
            "epoch 410, train_loss=0.020423491612415422, val_loss=0.014108767001224416\n",
            "epoch 420, train_loss=0.010013360948174854, val_loss=0.007089857644002352\n",
            "epoch 430, train_loss=0.04105187550356442, val_loss=0.038844152220657895\n",
            "epoch 440, train_loss=0.011964020345741037, val_loss=0.011283094129924263\n",
            "epoch 450, train_loss=0.02675522699825127, val_loss=0.020108165086380074\n",
            "epoch 460, train_loss=0.02856595304117284, val_loss=0.033469528259177296\n",
            "epoch 470, train_loss=0.026218379625457932, val_loss=0.01779226932142462\n",
            "epoch 480, train_loss=0.01694242290051823, val_loss=0.029781776106184616\n",
            "epoch 490, train_loss=0.011599966674111784, val_loss=0.006379537932973888\n"
          ]
        },
        {
          "output_type": "display_data",
          "data": {
            "text/plain": [
              "<Figure size 432x432 with 1 Axes>"
            ],
            "image/png": "[encoded data removed]"
          },
          "metadata": {
            "needs_background": "light"
          }
        }
      ]
    },
    {
      "cell_type": "code",
      "source": [
        "torch.manual_seed(seed)\n",
        "random.seed(seed)\n",
        "np.random.seed(seed)\n",
        "\n",
        "model = AutoEncoder()\n",
        "device = torch.device('cuda' if torch.cuda.is_available() else 'cpu')\n",
        "model.to(device)\n",
        "\n",
        "batch_size = 8\n",
        "epochs = 500\n",
        "lr = 5*1e-3\n",
        "optim = Adam(model.parameters(), lr=lr)\n",
        "loss = F.mse_loss\n",
        "\n",
        "# generate data and create data\n",
        "data_train = create_data(700)\n",
        "data_val = create_data(100)\n",
        "datas = [data_train, data_val]\n",
        "\n",
        "# train model\n",
        "train_loss, val_loss = train_model(model, loss, optim, epochs, device, datas)\n",
        "\n",
        "# look at examples\n",
        "print_examples(model)"
      ],
      "metadata": {
        "colab": {
          "base_uri": "https://localhost:8080/",
          "height": 1000
        },
        "id": "_DomQMA3LAGy",
        "outputId": "222502f1-6c53-47c8-8243-81a6ba1aff68"
      },
      "execution_count": null,
      "outputs": [
        {
          "output_type": "stream",
          "name": "stdout",
          "text": [
            "epoch 0, train_loss=0.4430141770704226, val_loss=0.31056374540695775\n",
            "epoch 10, train_loss=0.254504181698642, val_loss=0.24714765869654143\n",
            "epoch 20, train_loss=0.20079181969843127, val_loss=0.17959453165531158\n",
            "epoch 30, train_loss=0.111429834399711, val_loss=0.11267727670761254\n",
            "epoch 40, train_loss=0.07244009352077475, val_loss=0.0630232746211382\n",
            "epoch 50, train_loss=0.050112863775046375, val_loss=0.04284356724327573\n",
            "epoch 60, train_loss=0.041023878803984684, val_loss=0.04773471117592775\n",
            "epoch 70, train_loss=0.04328496407040141, val_loss=0.05050470916411051\n",
            "epoch 80, train_loss=0.034630190432918345, val_loss=0.028483624426791303\n",
            "epoch 90, train_loss=0.03468326654348692, val_loss=0.05346381520995727\n",
            "epoch 100, train_loss=0.02279933033489876, val_loss=0.022678558249026537\n",
            "epoch 110, train_loss=0.025848347799513827, val_loss=0.03007912402972579\n",
            "epoch 120, train_loss=0.02366136843656105, val_loss=0.031926812030948125\n",
            "epoch 130, train_loss=0.027697769342921674, val_loss=0.026018827723769043\n",
            "epoch 140, train_loss=0.020648032998327504, val_loss=0.021556671493901655\n",
            "epoch 150, train_loss=0.01405016087003539, val_loss=0.006413895224865813\n",
            "epoch 160, train_loss=0.022092129164692862, val_loss=0.0220885812663115\n",
            "epoch 170, train_loss=0.027250073704635724, val_loss=0.015694895257743504\n",
            "epoch 180, train_loss=0.014133515872262333, val_loss=0.01986827849983596\n",
            "epoch 190, train_loss=0.02258250980362804, val_loss=0.03110821147520955\n",
            "epoch 200, train_loss=0.017012284642656927, val_loss=0.010173233978163738\n",
            "epoch 210, train_loss=0.014105756421816874, val_loss=0.008197813115727443\n",
            "epoch 220, train_loss=0.005713760945416818, val_loss=0.004979327065834345\n",
            "epoch 230, train_loss=0.009036441407012964, val_loss=0.00657556197928408\n",
            "epoch 240, train_loss=0.00491496225533245, val_loss=0.006862591862535248\n",
            "epoch 250, train_loss=0.01081731702486815, val_loss=0.005822592737296453\n",
            "epoch 260, train_loss=0.008218104253914631, val_loss=0.004503488598857075\n",
            "epoch 270, train_loss=0.008390501744791189, val_loss=0.0039675363805145025\n",
            "epoch 280, train_loss=0.011321545331818263, val_loss=0.007838271101578496\n",
            "epoch 290, train_loss=0.010791804165902167, val_loss=0.008456757820497911\n",
            "epoch 300, train_loss=0.016258412851047153, val_loss=0.013573682544609675\n",
            "epoch 310, train_loss=0.01057562219516099, val_loss=0.0046929865806865\n",
            "epoch 320, train_loss=0.007517752646394497, val_loss=0.005158678189708063\n",
            "epoch 330, train_loss=0.009423836325533392, val_loss=0.009774937473524075\n",
            "epoch 340, train_loss=0.009089064492648256, val_loss=0.007605384641255324\n",
            "epoch 350, train_loss=0.017308292488451116, val_loss=0.01771573412518662\n",
            "epoch 360, train_loss=0.007066892638580281, val_loss=0.009129245523721553\n",
            "epoch 370, train_loss=0.01031349521376383, val_loss=0.004034824423097934\n",
            "epoch 380, train_loss=0.009520546993537044, val_loss=0.008354767512243528\n",
            "epoch 390, train_loss=0.018047459159623195, val_loss=0.02518442889245657\n",
            "epoch 400, train_loss=0.01157785363466246, val_loss=0.020606870736138753\n",
            "epoch 410, train_loss=0.009753155731066892, val_loss=0.00441458194444959\n",
            "epoch 420, train_loss=0.010350421993776266, val_loss=0.026413506971528895\n",
            "epoch 430, train_loss=0.005218455450879198, val_loss=0.0029830467314101183\n",
            "epoch 440, train_loss=0.006226634607380468, val_loss=0.011938380337176988\n",
            "epoch 450, train_loss=0.007517011461790058, val_loss=0.008840693447452325\n",
            "epoch 460, train_loss=0.013916328335075046, val_loss=0.01565758712016619\n",
            "epoch 470, train_loss=0.010451070298916999, val_loss=0.025968608177768495\n",
            "epoch 480, train_loss=0.019662296666038772, val_loss=0.01827508845151617\n",
            "epoch 490, train_loss=0.022426140050811227, val_loss=0.024686147458851337\n"
          ]
        },
        {
          "output_type": "display_data",
          "data": {
            "text/plain": [
              "<Figure size 432x432 with 1 Axes>"
            ],
            "image/png": "[encoded data removed]"
          },
          "metadata": {
            "needs_background": "light"
          }
        }
      ]
    },
    {
      "cell_type": "code",
      "source": [
        "torch.manual_seed(seed)\n",
        "random.seed(seed)\n",
        "np.random.seed(seed)\n",
        "\n",
        "model = AutoEncoder()\n",
        "device = torch.device('cuda' if torch.cuda.is_available() else 'cpu')\n",
        "model.to(device)\n",
        "\n",
        "batch_size = 8\n",
        "epochs = 221\n",
        "lr = 5*1e-3\n",
        "optim = Adam(model.parameters(), lr=lr)\n",
        "loss = F.mse_loss\n",
        "\n",
        "# generate data and create data\n",
        "data_train = create_data(700)\n",
        "data_val = create_data(100)\n",
        "datas = [data_train, data_val]\n",
        "\n",
        "# train model\n",
        "train_loss, val_loss = train_model(model, loss, optim, epochs, device, datas)\n",
        "\n",
        "# look at examples\n",
        "print_examples(model)"
      ],
      "metadata": {
        "colab": {
          "base_uri": "https://localhost:8080/",
          "height": 783
        },
        "id": "rEHGXGOvEGNk",
        "outputId": "d8148762-4930-436a-d0ba-489c5f486f50"
      },
      "execution_count": null,
      "outputs": [
        {
          "output_type": "stream",
          "name": "stdout",
          "text": [
            "epoch 0, train_loss=0.4430141770704226, val_loss=0.31056374540695775\n",
            "epoch 10, train_loss=0.254504181698642, val_loss=0.24714765869654143\n",
            "epoch 20, train_loss=0.20079181969843127, val_loss=0.17959453165531158\n",
            "epoch 30, train_loss=0.111429834399711, val_loss=0.11267727670761254\n",
            "epoch 40, train_loss=0.07244009352077475, val_loss=0.0630232746211382\n",
            "epoch 50, train_loss=0.050112863775046375, val_loss=0.04284356724327573\n",
            "epoch 60, train_loss=0.041023878803984684, val_loss=0.04773471117592775\n",
            "epoch 70, train_loss=0.04328496407040141, val_loss=0.05050470916411051\n",
            "epoch 80, train_loss=0.034630190432918345, val_loss=0.028483624426791303\n",
            "epoch 90, train_loss=0.03468326654348692, val_loss=0.05346381520995727\n",
            "epoch 100, train_loss=0.02279933033489876, val_loss=0.022678558249026537\n",
            "epoch 110, train_loss=0.025848347799513827, val_loss=0.03007912402972579\n",
            "epoch 120, train_loss=0.02366136843656105, val_loss=0.031926812030948125\n",
            "epoch 130, train_loss=0.027697769342921674, val_loss=0.026018827723769043\n",
            "epoch 140, train_loss=0.020648032998327504, val_loss=0.021556671493901655\n",
            "epoch 150, train_loss=0.01405016087003539, val_loss=0.006413895224865813\n",
            "epoch 160, train_loss=0.022092129164692862, val_loss=0.0220885812663115\n",
            "epoch 170, train_loss=0.027250073704635724, val_loss=0.015694895257743504\n",
            "epoch 180, train_loss=0.014133515872262333, val_loss=0.01986827849983596\n",
            "epoch 190, train_loss=0.02258250980362804, val_loss=0.03110821147520955\n",
            "epoch 200, train_loss=0.017012284642656927, val_loss=0.010173233978163738\n",
            "epoch 210, train_loss=0.014105756421816874, val_loss=0.008197813115727443\n",
            "epoch 220, train_loss=0.005713760945416818, val_loss=0.004979327065834345\n"
          ]
        },
        {
          "output_type": "display_data",
          "data": {
            "text/plain": [
              "<Figure size 432x432 with 1 Axes>"
            ],
            "image/png": "[encoded data removed]"
          },
          "metadata": {
            "needs_background": "light"
          }
        }
      ]
    },
    {
      "cell_type": "markdown",
      "source": [
        "# 3 слоя, 6 узлов, без Tanh"
      ],
      "metadata": {
        "id": "dsJd2NJIF4Pu"
      }
    },
    {
      "cell_type": "code",
      "source": [
        "class AutoEncoder(nn.Module):\n",
        "    def __init__(self, h=6):\n",
        "        super().__init__()\n",
        "        self.encoder = nn.Sequential(\n",
        "            nn.Linear(2, h),\n",
        "            nn.ReLU(),\n",
        "            nn.Linear(h, h),\n",
        "            nn.ReLU(),\n",
        "            nn.Linear(h, 1),\n",
        "            nn.ReLU()\n",
        "        )\n",
        "        self.decoder = nn.Sequential(\n",
        "            nn.Linear(1, h),\n",
        "            nn.ReLU(),\n",
        "            nn.Linear(h, h),\n",
        "            nn.ReLU(),\n",
        "            nn.Linear(h, 2),\n",
        "            # nn.Tanh()\n",
        "        )\n",
        "\n",
        "    def forward(self, x):\n",
        "        y = self.encoder(x)\n",
        "        z = self.decoder(y)\n",
        "        return z\n",
        "  \n",
        "print('number of params:', sum(p.numel() for p in AutoEncoder().parameters()))\n",
        "\n"
      ],
      "metadata": {
        "colab": {
          "base_uri": "https://localhost:8080/"
        },
        "id": "2C_2lhRmEZ0w",
        "outputId": "a20fe5ef-4dcf-4336-b187-45fb3bb0b602"
      },
      "execution_count": 6,
      "outputs": [
        {
          "output_type": "stream",
          "name": "stdout",
          "text": [
            "number of params: 135\n"
          ]
        }
      ]
    },
    {
      "cell_type": "markdown",
      "source": [
        "## batch = 8 -- BEST! --"
      ],
      "metadata": {
        "id": "aHd0er0PHjao"
      }
    },
    {
      "cell_type": "code",
      "source": [
        "torch.manual_seed(seed)\n",
        "random.seed(seed)\n",
        "np.random.seed(seed)\n",
        "\n",
        "model = AutoEncoder()\n",
        "device = torch.device('cuda' if torch.cuda.is_available() else 'cpu')\n",
        "model.to(device)\n",
        "\n",
        "batch_size = 8\n",
        "epochs = 500\n",
        "lr = 5*1e-3\n",
        "optim = Adam(model.parameters(), lr=lr)\n",
        "loss = F.mse_loss\n",
        "\n",
        "# generate data and create data\n",
        "data_train = create_data(700)\n",
        "data_val = create_data(100)\n",
        "datas = [data_train, data_val]\n",
        "\n",
        "# train model\n",
        "train_loss, val_loss = train_model(model, loss, optim, epochs, device, datas)\n",
        "\n",
        "# look at examples\n",
        "print_examples(model)"
      ],
      "metadata": {
        "colab": {
          "base_uri": "https://localhost:8080/",
          "height": 1000
        },
        "id": "rHCwXe-5EhI4",
        "outputId": "0d24b4aa-e77c-46f5-808c-8ffb22116066"
      },
      "execution_count": 7,
      "outputs": [
        {
          "output_type": "stream",
          "name": "stdout",
          "text": [
            "epoch 0, train_loss=0.44241256994957273, val_loss=0.3105295025385343\n",
            "epoch 10, train_loss=0.2528762378814546, val_loss=0.24542557849333838\n",
            "epoch 20, train_loss=0.19349640125239437, val_loss=0.17644628710471666\n",
            "epoch 30, train_loss=0.08546757192181592, val_loss=0.09392988595824975\n",
            "epoch 40, train_loss=0.07447124206969007, val_loss=0.061045992403076246\n",
            "epoch 50, train_loss=0.0629158893134445, val_loss=0.08340941956983162\n",
            "epoch 60, train_loss=0.05062492993998934, val_loss=0.048229770305065006\n",
            "epoch 70, train_loss=0.045903917465528306, val_loss=0.04558507911860943\n",
            "epoch 80, train_loss=0.0356449244692075, val_loss=0.03973182691977574\n",
            "epoch 90, train_loss=0.027418190317059107, val_loss=0.029342731460928917\n",
            "epoch 100, train_loss=0.03650248337494717, val_loss=0.04069007488970573\n",
            "epoch 110, train_loss=0.03283389321189712, val_loss=0.021806016206168212\n",
            "epoch 120, train_loss=0.043528519083999774, val_loss=0.024319983051659968\n",
            "epoch 130, train_loss=0.032561841918240214, val_loss=0.02074748671685274\n",
            "epoch 140, train_loss=0.040100137626392425, val_loss=0.041518627236095756\n",
            "epoch 150, train_loss=0.0367089876672253, val_loss=0.019098401857683293\n",
            "epoch 160, train_loss=0.022470029959963125, val_loss=0.043304323290403075\n",
            "epoch 170, train_loss=0.01834775892678987, val_loss=0.014739096093063172\n",
            "epoch 180, train_loss=0.010810317804994569, val_loss=0.010170851225176683\n",
            "epoch 190, train_loss=0.018532172218494288, val_loss=0.015185269455497082\n",
            "epoch 200, train_loss=0.018549264855788682, val_loss=0.019942496688320085\n",
            "epoch 210, train_loss=0.009517013367836957, val_loss=0.010340508306398988\n",
            "epoch 220, train_loss=0.011954202870997093, val_loss=0.0070443928170089536\n",
            "epoch 230, train_loss=0.01524409343520264, val_loss=0.009793977074038524\n",
            "epoch 240, train_loss=0.015139444567136128, val_loss=0.0077695198392925355\n",
            "epoch 250, train_loss=0.012365962887997739, val_loss=0.0265852736774832\n",
            "epoch 260, train_loss=0.011961925757614981, val_loss=0.008534381846682383\n",
            "epoch 270, train_loss=0.007956055716600862, val_loss=0.016404754338929288\n",
            "epoch 280, train_loss=0.010586587742595426, val_loss=0.004062431452509303\n",
            "epoch 290, train_loss=0.008808275246172509, val_loss=0.005102247474356913\n",
            "epoch 300, train_loss=0.008214747624482367, val_loss=0.010107833104064832\n",
            "epoch 310, train_loss=0.00612535358893431, val_loss=0.0028820608276873827\n",
            "epoch 320, train_loss=0.010679814394362356, val_loss=0.010080131863315519\n",
            "epoch 330, train_loss=0.006841350488354114, val_loss=0.007937679819476146\n",
            "epoch 340, train_loss=0.006677013369467618, val_loss=0.008944536281677965\n",
            "epoch 350, train_loss=0.021703770585273476, val_loss=0.006167944377431503\n",
            "epoch 360, train_loss=0.010382073643003505, val_loss=0.004622933983158033\n",
            "epoch 370, train_loss=0.005783274153310975, val_loss=0.017489046001663573\n",
            "epoch 380, train_loss=0.007186412297332109, val_loss=0.004883551710428527\n",
            "epoch 390, train_loss=0.0037733332851943983, val_loss=0.005505717117697573\n",
            "epoch 400, train_loss=0.007032380596766333, val_loss=0.005010549301424852\n",
            "epoch 410, train_loss=0.0037935409186915917, val_loss=0.0035967555864212606\n",
            "epoch 420, train_loss=0.00512793373160424, val_loss=0.004334609257057309\n",
            "epoch 430, train_loss=0.00827525208362865, val_loss=0.005315249929061303\n",
            "epoch 440, train_loss=0.011125876551060091, val_loss=0.004234335080792124\n",
            "epoch 450, train_loss=0.006019485108977692, val_loss=0.0066592441155360295\n",
            "epoch 460, train_loss=0.007437038903431544, val_loss=0.003359874611935363\n",
            "epoch 470, train_loss=0.011122520407132635, val_loss=0.008369076423920117\n",
            "epoch 480, train_loss=0.007383839683329411, val_loss=0.0026625846960366918\n",
            "epoch 490, train_loss=0.00832703916041117, val_loss=0.003811319573567464\n"
          ]
        },
        {
          "output_type": "display_data",
          "data": {
            "text/plain": [
              "<Figure size 432x432 with 1 Axes>"
            ],
            "image/png": "[encoded data removed]"
          },
          "metadata": {
            "needs_background": "light"
          }
        }
      ]
    },
    {
      "cell_type": "code",
      "source": [
        "torch.manual_seed(seed)\n",
        "random.seed(seed)\n",
        "np.random.seed(seed)\n",
        "\n",
        "model = AutoEncoder()\n",
        "device = torch.device('cuda' if torch.cuda.is_available() else 'cpu')\n",
        "model.to(device)\n",
        "\n",
        "batch_size = 8\n",
        "epochs = 600\n",
        "lr = 5*1e-3\n",
        "optim = Adam(model.parameters(), lr=lr)\n",
        "loss = F.mse_loss\n",
        "\n",
        "# generate data and create data\n",
        "data_train = create_data(700)\n",
        "data_val = create_data(100)\n",
        "datas = [data_train, data_val]\n",
        "\n",
        "# train model\n",
        "train_loss, val_loss = train_model(model, loss, optim, epochs, device, datas)\n",
        "\n",
        "# look at examples\n",
        "print_examples(model)"
      ],
      "metadata": {
        "colab": {
          "base_uri": "https://localhost:8080/",
          "height": 1000
        },
        "id": "QwbuVzwGICk2",
        "outputId": "2bf0c3b2-06ef-4888-ad46-c50e14cdbd2d"
      },
      "execution_count": null,
      "outputs": [
        {
          "output_type": "stream",
          "name": "stdout",
          "text": [
            "epoch 0, train_loss=0.44241256994957273, val_loss=0.3105295025385343\n",
            "epoch 10, train_loss=0.2528762378814546, val_loss=0.24542557849333838\n",
            "epoch 20, train_loss=0.19349640125239437, val_loss=0.17644628710471666\n",
            "epoch 30, train_loss=0.08546757192181592, val_loss=0.09392988595824975\n",
            "epoch 40, train_loss=0.07447124206969007, val_loss=0.061045992403076246\n",
            "epoch 50, train_loss=0.0629158893134445, val_loss=0.08340941956983162\n",
            "epoch 60, train_loss=0.05062492993998934, val_loss=0.048229770305065006\n",
            "epoch 70, train_loss=0.045903917465528306, val_loss=0.04558507911860943\n",
            "epoch 80, train_loss=0.0356449244692075, val_loss=0.03973182691977574\n",
            "epoch 90, train_loss=0.027418190317059107, val_loss=0.029342731460928917\n",
            "epoch 100, train_loss=0.03650248337494717, val_loss=0.04069007488970573\n",
            "epoch 110, train_loss=0.03283389321189712, val_loss=0.021806016206168212\n",
            "epoch 120, train_loss=0.043528519083999774, val_loss=0.024319983051659968\n",
            "epoch 130, train_loss=0.032561841918240214, val_loss=0.02074748671685274\n",
            "epoch 140, train_loss=0.040100137626392425, val_loss=0.041518627236095756\n",
            "epoch 150, train_loss=0.0367089876672253, val_loss=0.019098401857683293\n",
            "epoch 160, train_loss=0.022470029959963125, val_loss=0.043304323290403075\n",
            "epoch 170, train_loss=0.01834775892678987, val_loss=0.014739096093063172\n",
            "epoch 180, train_loss=0.010810317804994569, val_loss=0.010170851225176683\n",
            "epoch 190, train_loss=0.018532172218494288, val_loss=0.015185269455497082\n",
            "epoch 200, train_loss=0.018549264855788682, val_loss=0.019942496688320085\n",
            "epoch 210, train_loss=0.009517013367836957, val_loss=0.010340508306398988\n",
            "epoch 220, train_loss=0.011954202870997093, val_loss=0.0070443928170089536\n",
            "epoch 230, train_loss=0.01524409343520264, val_loss=0.009793977074038524\n",
            "epoch 240, train_loss=0.015139444567136128, val_loss=0.0077695198392925355\n",
            "epoch 250, train_loss=0.012365962887997739, val_loss=0.0265852736774832\n",
            "epoch 260, train_loss=0.011961925757614981, val_loss=0.008534381846682383\n",
            "epoch 270, train_loss=0.007956055716600862, val_loss=0.016404754338929288\n",
            "epoch 280, train_loss=0.010586587742595426, val_loss=0.004062431452509303\n",
            "epoch 290, train_loss=0.008808275246172509, val_loss=0.005102247474356913\n",
            "epoch 300, train_loss=0.008214747624482367, val_loss=0.010107833104064832\n",
            "epoch 310, train_loss=0.00612535358893431, val_loss=0.0028820608276873827\n",
            "epoch 320, train_loss=0.010679814394362356, val_loss=0.010080131863315519\n",
            "epoch 330, train_loss=0.006841350488354114, val_loss=0.007937679819476146\n",
            "epoch 340, train_loss=0.006677013369467618, val_loss=0.008944536281677965\n",
            "epoch 350, train_loss=0.021703770585273476, val_loss=0.006167944377431503\n",
            "epoch 360, train_loss=0.010382073643003505, val_loss=0.004622933983158033\n",
            "epoch 370, train_loss=0.005783274153310975, val_loss=0.017489046001663573\n",
            "epoch 380, train_loss=0.007186412297332109, val_loss=0.004883551710428527\n",
            "epoch 390, train_loss=0.0037733332851943983, val_loss=0.005505717117697573\n",
            "epoch 400, train_loss=0.007032380596766333, val_loss=0.005010549301424852\n",
            "epoch 410, train_loss=0.0037935409186915917, val_loss=0.0035967555864212606\n",
            "epoch 420, train_loss=0.00512793373160424, val_loss=0.004334609257057309\n",
            "epoch 430, train_loss=0.00827525208362865, val_loss=0.005315249929061303\n",
            "epoch 440, train_loss=0.011125876551060091, val_loss=0.004234335080792124\n",
            "epoch 450, train_loss=0.006019485108977692, val_loss=0.0066592441155360295\n",
            "epoch 460, train_loss=0.007437038903431544, val_loss=0.003359874611935363\n",
            "epoch 470, train_loss=0.011122520407132635, val_loss=0.008369076423920117\n",
            "epoch 480, train_loss=0.007383839683329411, val_loss=0.0026625846960366918\n",
            "epoch 490, train_loss=0.00832703916041117, val_loss=0.003811319573567464\n",
            "epoch 500, train_loss=0.008333606277698313, val_loss=0.006024283052493746\n",
            "epoch 510, train_loss=0.007575645020221022, val_loss=0.00806036122286549\n",
            "epoch 520, train_loss=0.00979032637604343, val_loss=0.021007604288080566\n",
            "epoch 530, train_loss=0.00527910032145552, val_loss=0.004989855851118381\n",
            "epoch 540, train_loss=0.005965152374384078, val_loss=0.01204988847558315\n",
            "epoch 550, train_loss=0.009278779360597995, val_loss=0.018528441182122782\n",
            "epoch 560, train_loss=0.006653054064372554, val_loss=0.0036152996158657167\n",
            "epoch 570, train_loss=0.0055967111349507995, val_loss=0.0050531599061706895\n",
            "epoch 580, train_loss=0.007927901205469177, val_loss=0.01159858529885801\n",
            "epoch 590, train_loss=0.005078873994617342, val_loss=0.007071079471363471\n"
          ]
        },
        {
          "output_type": "display_data",
          "data": {
            "text/plain": [
              "<Figure size 432x432 with 1 Axes>"
            ],
            "image/png": "[encoded data removed]"
          },
          "metadata": {
            "needs_background": "light"
          }
        }
      ]
    },
    {
      "cell_type": "code",
      "source": [
        "torch.manual_seed(seed)\n",
        "random.seed(seed)\n",
        "np.random.seed(seed)\n",
        "\n",
        "model = AutoEncoder()\n",
        "device = torch.device('cuda' if torch.cuda.is_available() else 'cpu')\n",
        "model.to(device)\n",
        "\n",
        "batch_size = 8\n",
        "epochs = 751\n",
        "lr = 5*1e-3\n",
        "optim = Adam(model.parameters(), lr=lr)\n",
        "loss = F.mse_loss\n",
        "\n",
        "# generate data and create data\n",
        "data_train = create_data(700)\n",
        "data_val = create_data(100)\n",
        "datas = [data_train, data_val]\n",
        "\n",
        "# train model\n",
        "train_loss, val_loss = train_model(model, loss, optim, epochs, device, datas, print_step=50)\n",
        "\n",
        "# look at examples\n",
        "print_examples(model)"
      ],
      "metadata": {
        "colab": {
          "base_uri": "https://localhost:8080/",
          "height": 658
        },
        "id": "o_4ZyuI2JUbJ",
        "outputId": "c9cbfc2d-b598-46ab-d4cb-810a8eb398a4"
      },
      "execution_count": null,
      "outputs": [
        {
          "output_type": "stream",
          "name": "stdout",
          "text": [
            "epoch 0, train_loss=0.44241256994957273, val_loss=0.3105295025385343\n",
            "epoch 50, train_loss=0.06689345601692119, val_loss=0.056792099888508134\n",
            "epoch 100, train_loss=0.030034314819865605, val_loss=0.025867619193517245\n",
            "epoch 150, train_loss=0.03669253798117014, val_loss=0.03425478505400511\n",
            "epoch 200, train_loss=0.026373329223133624, val_loss=0.021528601718063537\n",
            "epoch 250, train_loss=0.04639576672872698, val_loss=0.04869793240840618\n",
            "epoch 300, train_loss=0.030754595825617962, val_loss=0.03026114970159072\n",
            "epoch 350, train_loss=0.031695740842472085, val_loss=0.022321118543354366\n",
            "epoch 400, train_loss=0.025193036830222063, val_loss=0.018891249460956223\n",
            "epoch 450, train_loss=0.024774815982461652, val_loss=0.013600142350277076\n",
            "epoch 500, train_loss=0.009795810672750866, val_loss=0.010159067469290815\n",
            "epoch 550, train_loss=0.010150000618357974, val_loss=0.007835218145583685\n",
            "epoch 600, train_loss=0.025409669234332712, val_loss=0.00954277877910779\n",
            "epoch 650, train_loss=0.0041419687080302865, val_loss=0.005540167518819754\n",
            "epoch 700, train_loss=0.005365080944929187, val_loss=0.005249080722793364\n",
            "epoch 750, train_loss=0.002738832087330097, val_loss=0.0026265375334053086\n"
          ]
        },
        {
          "output_type": "display_data",
          "data": {
            "text/plain": [
              "<Figure size 432x432 with 1 Axes>"
            ],
            "image/png": "[encoded data removed]"
          },
          "metadata": {
            "needs_background": "light"
          }
        }
      ]
    },
    {
      "cell_type": "markdown",
      "source": [
        "## batch = 64"
      ],
      "metadata": {
        "id": "mTVn-Di5HgcB"
      }
    },
    {
      "cell_type": "code",
      "source": [
        "torch.manual_seed(seed)\n",
        "random.seed(seed)\n",
        "np.random.seed(seed)\n",
        "\n",
        "model = AutoEncoder()\n",
        "device = torch.device('cuda' if torch.cuda.is_available() else 'cpu')\n",
        "model.to(device)\n",
        "\n",
        "batch_size = 64\n",
        "epochs = 500\n",
        "lr = 5*1e-3\n",
        "optim = Adam(model.parameters(), lr=lr)\n",
        "loss = F.mse_loss\n",
        "\n",
        "# generate data and create data\n",
        "data_train = create_data(700)\n",
        "data_val = create_data(100)\n",
        "datas = [data_train, data_val]\n",
        "\n",
        "# train model\n",
        "train_loss, val_loss = train_model(model, loss, optim, epochs, device, datas)\n",
        "\n",
        "# look at examples\n",
        "print_examples(model)"
      ],
      "metadata": {
        "colab": {
          "base_uri": "https://localhost:8080/",
          "height": 1000
        },
        "id": "NaDtoyZTGDfN",
        "outputId": "f5edf1eb-70d4-4cf8-8823-e14ce77de045"
      },
      "execution_count": null,
      "outputs": [
        {
          "output_type": "stream",
          "name": "stdout",
          "text": [
            "epoch 0, train_loss=0.5286621803587134, val_loss=0.5136855244636536\n",
            "epoch 10, train_loss=0.2657722112807361, val_loss=0.25983262807130814\n",
            "epoch 20, train_loss=0.2527668056162921, val_loss=0.2533899396657944\n",
            "epoch 30, train_loss=0.2512038160454143, val_loss=0.25460314005613327\n",
            "epoch 40, train_loss=0.24946410953998566, val_loss=0.24676463752985\n",
            "epoch 50, train_loss=0.24817000329494476, val_loss=0.2473502978682518\n",
            "epoch 60, train_loss=0.2400601248849522, val_loss=0.2375689223408699\n",
            "epoch 70, train_loss=0.17175774073058908, val_loss=0.17289235442876816\n",
            "epoch 80, train_loss=0.11855617707425897, val_loss=0.10671824961900711\n",
            "epoch 90, train_loss=0.09028954871676186, val_loss=0.0824047327041626\n",
            "epoch 100, train_loss=0.08042181926694783, val_loss=0.07302693091332912\n",
            "epoch 110, train_loss=0.0712599828839302, val_loss=0.06601994670927525\n",
            "epoch 120, train_loss=0.0694622929123315, val_loss=0.0698331892490387\n",
            "epoch 130, train_loss=0.06340004876255989, val_loss=0.07154328934848309\n",
            "epoch 140, train_loss=0.06267724965106357, val_loss=0.07413597218692303\n",
            "epoch 150, train_loss=0.06028122759678147, val_loss=0.06833702325820923\n",
            "epoch 160, train_loss=0.058768623593178665, val_loss=0.060111185535788536\n",
            "epoch 170, train_loss=0.0591424974528226, val_loss=0.0635028425604105\n",
            "epoch 180, train_loss=0.05630211379717697, val_loss=0.06895781308412552\n",
            "epoch 190, train_loss=0.057248158888383346, val_loss=0.05560706928372383\n",
            "epoch 200, train_loss=0.05481767857616598, val_loss=0.05621790327131748\n",
            "epoch 210, train_loss=0.053372140635143624, val_loss=0.06705663353204727\n",
            "epoch 220, train_loss=0.05603726411407644, val_loss=0.04568026401102543\n",
            "epoch 230, train_loss=0.051748686216094276, val_loss=0.041090560145676136\n",
            "epoch 240, train_loss=0.05077237195589326, val_loss=0.05486627109348774\n",
            "epoch 250, train_loss=0.05050570433112708, val_loss=0.04341885633766651\n",
            "epoch 260, train_loss=0.053785489025441086, val_loss=0.04382540285587311\n",
            "epoch 270, train_loss=0.04879820397631689, val_loss=0.06473401188850403\n",
            "epoch 280, train_loss=0.05223542688922449, val_loss=0.053418755531311035\n",
            "epoch 290, train_loss=0.04793602837757631, val_loss=0.042802898213267326\n",
            "epoch 300, train_loss=0.04727218215438453, val_loss=0.04476390406489372\n",
            "epoch 310, train_loss=0.047101678496057335, val_loss=0.04521769843995571\n",
            "epoch 320, train_loss=0.04472487352111123, val_loss=0.039443010464310646\n",
            "epoch 330, train_loss=0.047962250357324425, val_loss=0.06332986243069172\n",
            "epoch 340, train_loss=0.04638589613816955, val_loss=0.04129881598055363\n",
            "epoch 350, train_loss=0.04971803809431466, val_loss=0.044225528836250305\n",
            "epoch 360, train_loss=0.04185319437899373, val_loss=0.05431744363158941\n",
            "epoch 370, train_loss=0.04169478385963223, val_loss=0.03403371758759022\n",
            "epoch 380, train_loss=0.03816788203336976, val_loss=0.03261878341436386\n",
            "epoch 390, train_loss=0.03650211915373802, val_loss=0.040504395961761475\n",
            "epoch 400, train_loss=0.03672246414829384, val_loss=0.030225710943341255\n",
            "epoch 410, train_loss=0.03631013530221852, val_loss=0.03251069784164429\n",
            "epoch 420, train_loss=0.0339626476845958, val_loss=0.02894546277821064\n",
            "epoch 430, train_loss=0.033131016926331955, val_loss=0.028236529789865017\n",
            "epoch 440, train_loss=0.032733583484183655, val_loss=0.031924985349178314\n",
            "epoch 450, train_loss=0.03286204808814959, val_loss=0.028952693566679955\n",
            "epoch 460, train_loss=0.03240834515203129, val_loss=0.028408700600266457\n",
            "epoch 470, train_loss=0.028557657687501473, val_loss=0.02387898415327072\n",
            "epoch 480, train_loss=0.03074850565330549, val_loss=0.033359942957758904\n",
            "epoch 490, train_loss=0.030080834234302693, val_loss=0.0424062917008996\n"
          ]
        },
        {
          "output_type": "display_data",
          "data": {
            "text/plain": [
              "<Figure size 432x432 with 1 Axes>"
            ],
            "image/png": "[encoded data removed]"
          },
          "metadata": {
            "needs_background": "light"
          }
        }
      ]
    },
    {
      "cell_type": "markdown",
      "source": [
        "# 4 слоя, 4 узла"
      ],
      "metadata": {
        "id": "1S2jJWm1-lal"
      }
    },
    {
      "cell_type": "code",
      "source": [
        "class AutoEncoder(nn.Module):\n",
        "    def __init__(self, h=4):\n",
        "        super().__init__()\n",
        "        self.encoder = nn.Sequential(\n",
        "            nn.Linear(2, h),\n",
        "            nn.ReLU(),\n",
        "            nn.Linear(h, h),\n",
        "            nn.ReLU(),\n",
        "            nn.Linear(h, h),\n",
        "            nn.ReLU(),\n",
        "            nn.Linear(h, 1),\n",
        "            nn.ReLU()\n",
        "        )\n",
        "        self.decoder = nn.Sequential(\n",
        "            nn.Linear(1, h),\n",
        "            nn.ReLU(),\n",
        "            nn.Linear(h, h),\n",
        "            nn.ReLU(),\n",
        "            nn.Linear(h, h),\n",
        "            nn.ReLU(),\n",
        "            nn.Linear(h, 2),\n",
        "            nn.Tanh()\n",
        "        )\n",
        "\n",
        "    def forward(self, x):\n",
        "        y = self.encoder(x)\n",
        "        z = self.decoder(y)\n",
        "        return z\n",
        "  \n",
        "print('number of params:', sum(p.numel() for p in AutoEncoder().parameters()))\n",
        "\n"
      ],
      "metadata": {
        "colab": {
          "base_uri": "https://localhost:8080/"
        },
        "id": "irP28oAHnSe6",
        "outputId": "cb3e4106-e2e3-41ef-a1b0-60dd59fd083d"
      },
      "execution_count": null,
      "outputs": [
        {
          "output_type": "stream",
          "name": "stdout",
          "text": [
            "number of params: 115\n"
          ]
        }
      ]
    },
    {
      "cell_type": "markdown",
      "source": [
        "## batch = 8"
      ],
      "metadata": {
        "id": "lc3cV_RM-qdo"
      }
    },
    {
      "cell_type": "code",
      "source": [
        "torch.manual_seed(seed)\n",
        "random.seed(seed)\n",
        "np.random.seed(seed)\n",
        "\n",
        "model = AutoEncoder()\n",
        "device = torch.device('cuda' if torch.cuda.is_available() else 'cpu')\n",
        "model.to(device)\n",
        "\n",
        "batch_size = 8\n",
        "epochs = 500\n",
        "lr = 1e-3\n",
        "optim = Adam(model.parameters(), lr=lr)\n",
        "loss = F.mse_loss\n",
        "\n",
        "# generate data and create data\n",
        "data_train = create_data(700)\n",
        "data_val = create_data(100)\n",
        "datas = [data_train, data_val]\n",
        "\n",
        "# train model\n",
        "train_loss, val_loss = train_model(model, loss, optim, epochs, device, datas)\n",
        "\n",
        "# look at examples\n",
        "print_examples(model)"
      ],
      "metadata": {
        "colab": {
          "base_uri": "https://localhost:8080/",
          "height": 1000
        },
        "id": "nSJYCWK1qmRf",
        "outputId": "b3260fe1-b152-47c0-d942-81206e6f65d7"
      },
      "execution_count": null,
      "outputs": [
        {
          "output_type": "stream",
          "name": "stdout",
          "text": [
            "epoch 0, train_loss=0.6392049460925839, val_loss=0.5978148029400752\n",
            "epoch 10, train_loss=0.26408226703378285, val_loss=0.2623656288935588\n",
            "epoch 20, train_loss=0.20653963088989258, val_loss=0.19934615779381532\n",
            "epoch 30, train_loss=0.11914359020407904, val_loss=0.12211218390327233\n",
            "epoch 40, train_loss=0.09144990601238202, val_loss=0.08924028786042562\n",
            "epoch 50, train_loss=0.07922543867872181, val_loss=0.07532799508995734\n",
            "epoch 60, train_loss=0.07032683781686831, val_loss=0.07050309330224991\n",
            "epoch 70, train_loss=0.061803511359771204, val_loss=0.05806819578775993\n",
            "epoch 80, train_loss=0.05649875322176905, val_loss=0.0511726073634166\n",
            "epoch 90, train_loss=0.051061263773590326, val_loss=0.05201715947343753\n",
            "epoch 100, train_loss=0.04920152168911458, val_loss=0.053020415970912345\n",
            "epoch 110, train_loss=0.045722125706643885, val_loss=0.04178040703901878\n",
            "epoch 120, train_loss=0.04701270983258093, val_loss=0.04303683419353687\n",
            "epoch 130, train_loss=0.04166061808460985, val_loss=0.0420641631890948\n",
            "epoch 140, train_loss=0.0386276612566276, val_loss=0.03997187173137298\n",
            "epoch 150, train_loss=0.039581020288592714, val_loss=0.03939794204556025\n",
            "epoch 160, train_loss=0.03764089934570207, val_loss=0.03436854485279092\n",
            "epoch 170, train_loss=0.03795695858372545, val_loss=0.03458164066362839\n",
            "epoch 180, train_loss=0.03775358466241001, val_loss=0.028410343202547386\n",
            "epoch 190, train_loss=0.03450008903481913, val_loss=0.036012252362874836\n",
            "epoch 200, train_loss=0.03332156720782884, val_loss=0.03506690759856541\n",
            "epoch 210, train_loss=0.0337074130657129, val_loss=0.03938332902124295\n",
            "epoch 220, train_loss=0.03132778992982243, val_loss=0.03242924118127961\n",
            "epoch 230, train_loss=0.0335660468368918, val_loss=0.02644068844473133\n",
            "epoch 240, train_loss=0.03093710834615525, val_loss=0.02066849272411603\n",
            "epoch 250, train_loss=0.031305580802092496, val_loss=0.03342101536691189\n",
            "epoch 260, train_loss=0.029613042435481806, val_loss=0.03611475544480177\n",
            "epoch 270, train_loss=0.029102032088716936, val_loss=0.03420178112215721\n",
            "epoch 280, train_loss=0.027593239287274297, val_loss=0.01754438289656089\n",
            "epoch 290, train_loss=0.026830332443668423, val_loss=0.017362568634920396\n",
            "epoch 300, train_loss=0.02994740889037282, val_loss=0.021099841831108697\n",
            "epoch 310, train_loss=0.02547047570062039, val_loss=0.026220118053830586\n",
            "epoch 320, train_loss=0.03221207631180401, val_loss=0.034337773704184935\n",
            "epoch 330, train_loss=0.027855602743908425, val_loss=0.04735696118754836\n",
            "epoch 340, train_loss=0.02396648274522952, val_loss=0.026416285858991053\n",
            "epoch 350, train_loss=0.027359190460463815, val_loss=0.03234667133969756\n",
            "epoch 360, train_loss=0.02306858313650909, val_loss=0.021901552565395832\n",
            "epoch 370, train_loss=0.0230287950147282, val_loss=0.031082233360323768\n",
            "epoch 380, train_loss=0.02306330434724011, val_loss=0.01613471623008641\n",
            "epoch 390, train_loss=0.022752923049583016, val_loss=0.01619173616815645\n",
            "epoch 400, train_loss=0.02305226854778911, val_loss=0.014127469872339414\n",
            "epoch 410, train_loss=0.02462127077160403, val_loss=0.02526530141655642\n",
            "epoch 420, train_loss=0.020238079765642233, val_loss=0.025047767011878583\n",
            "epoch 430, train_loss=0.024389970454980026, val_loss=0.02305119769432797\n",
            "epoch 440, train_loss=0.023822831212204288, val_loss=0.029680779561973535\n",
            "epoch 450, train_loss=0.020620497795541516, val_loss=0.014083135282047667\n",
            "epoch 460, train_loss=0.0224363639135845, val_loss=0.012078985213660277\n",
            "epoch 470, train_loss=0.02061157985537482, val_loss=0.011068254816704072\n",
            "epoch 480, train_loss=0.020007183801763775, val_loss=0.01548903245622149\n",
            "epoch 490, train_loss=0.02047489043748514, val_loss=0.025004311160256084\n"
          ]
        },
        {
          "output_type": "display_data",
          "data": {
            "text/plain": [
              "<Figure size 432x432 with 1 Axes>"
            ],
            "image/png": "[encoded data removed]"
          },
          "metadata": {
            "needs_background": "light"
          }
        }
      ]
    },
    {
      "cell_type": "markdown",
      "source": [
        "## batch = 32"
      ],
      "metadata": {
        "id": "zr9Wc0pJ-tAJ"
      }
    },
    {
      "cell_type": "code",
      "source": [
        "torch.manual_seed(seed)\n",
        "random.seed(seed)\n",
        "np.random.seed(seed)\n",
        "\n",
        "model = AutoEncoder()\n",
        "device = torch.device('cuda' if torch.cuda.is_available() else 'cpu')\n",
        "model.to(device)\n",
        "\n",
        "batch_size = 32\n",
        "epochs = 500\n",
        "lr = 1e-3\n",
        "optim = Adam(model.parameters(), lr=lr)\n",
        "loss = F.mse_loss\n",
        "\n",
        "# generate data and create data\n",
        "data_train = create_data(700)\n",
        "data_val = create_data(100)\n",
        "datas = [data_train, data_val]\n",
        "\n",
        "# train model\n",
        "train_loss, val_loss = train_model(model, loss, optim, epochs, device, datas)\n",
        "\n",
        "# look at examples\n",
        "print_examples(model)"
      ],
      "metadata": {
        "colab": {
          "base_uri": "https://localhost:8080/",
          "height": 1000
        },
        "id": "cnHAZb3PzPJW",
        "outputId": "d3f89046-5c10-4071-8281-0f94c043acfc"
      },
      "execution_count": null,
      "outputs": [
        {
          "output_type": "stream",
          "name": "stdout",
          "text": [
            "epoch 0, train_loss=0.6762341775677421, val_loss=0.6539255380630493\n",
            "epoch 10, train_loss=0.49915810200301086, val_loss=0.4869685173034668\n",
            "epoch 20, train_loss=0.2996074042536996, val_loss=0.2904887869954109\n",
            "epoch 30, train_loss=0.27725779942490836, val_loss=0.27384572103619576\n",
            "epoch 40, train_loss=0.2677874510938471, val_loss=0.2906944490969181\n",
            "epoch 50, train_loss=0.2600982534614476, val_loss=0.25817716866731644\n",
            "epoch 60, train_loss=0.2542130134322427, val_loss=0.25939832627773285\n",
            "epoch 70, train_loss=0.25053011016412213, val_loss=0.26922454684972763\n",
            "epoch 80, train_loss=0.2432046654549512, val_loss=0.23387688770890236\n",
            "epoch 90, train_loss=0.22290526465936142, val_loss=0.17991504818201065\n",
            "epoch 100, train_loss=0.19490359655835413, val_loss=0.19176830351352692\n",
            "epoch 110, train_loss=0.16596891798756339, val_loss=0.15867853164672852\n",
            "epoch 120, train_loss=0.14730416814034636, val_loss=0.15260461531579494\n",
            "epoch 130, train_loss=0.12922434982928363, val_loss=0.11134132463485003\n",
            "epoch 140, train_loss=0.1126177033240145, val_loss=0.09436199441552162\n",
            "epoch 150, train_loss=0.09941715611652895, val_loss=0.08778771478682756\n",
            "epoch 160, train_loss=0.08774702488021417, val_loss=0.08208511397242546\n",
            "epoch 170, train_loss=0.07970183715224266, val_loss=0.0695707630366087\n",
            "epoch 180, train_loss=0.07567278795282949, val_loss=0.06250698771327734\n",
            "epoch 190, train_loss=0.06819968966936524, val_loss=0.06332901678979397\n",
            "epoch 200, train_loss=0.06459642396393148, val_loss=0.06364901084452868\n",
            "epoch 210, train_loss=0.061714070341126484, val_loss=0.05427955836057663\n",
            "epoch 220, train_loss=0.05796900781040842, val_loss=0.04604123393073678\n",
            "epoch 230, train_loss=0.05502720930698243, val_loss=0.04641725542023778\n",
            "epoch 240, train_loss=0.05257702932100405, val_loss=0.046210058964788914\n",
            "epoch 250, train_loss=0.04967381576584144, val_loss=0.053517104126513004\n",
            "epoch 260, train_loss=0.047486420974812725, val_loss=0.04588157404214144\n",
            "epoch 270, train_loss=0.047078825618055736, val_loss=0.04491014638915658\n",
            "epoch 280, train_loss=0.04554719858887521, val_loss=0.04056447371840477\n",
            "epoch 290, train_loss=0.043669836087660355, val_loss=0.04169720644131303\n",
            "epoch 300, train_loss=0.04193320523270152, val_loss=0.03695279220119119\n",
            "epoch 310, train_loss=0.04293519106100906, val_loss=0.03383976174518466\n",
            "epoch 320, train_loss=0.038774151778356594, val_loss=0.030652505345642567\n",
            "epoch 330, train_loss=0.03693256146189841, val_loss=0.03610343672335148\n",
            "epoch 340, train_loss=0.03516994552178816, val_loss=0.03314719605259597\n",
            "epoch 350, train_loss=0.03757890919223428, val_loss=0.026886908803135157\n",
            "epoch 360, train_loss=0.03510062197561969, val_loss=0.02935810014605522\n",
            "epoch 370, train_loss=0.03348439635539597, val_loss=0.03030470572412014\n",
            "epoch 380, train_loss=0.03405032996934923, val_loss=0.031243889592587948\n",
            "epoch 390, train_loss=0.03299363431605426, val_loss=0.025970890885218978\n",
            "epoch 400, train_loss=0.03270046671175144, val_loss=0.031954309437423944\n",
            "epoch 410, train_loss=0.030892822214148262, val_loss=0.021165834041312337\n",
            "epoch 420, train_loss=0.0314953613772311, val_loss=0.026807946618646383\n",
            "epoch 430, train_loss=0.030263467734171587, val_loss=0.026143439579755068\n",
            "epoch 440, train_loss=0.029705197846686297, val_loss=0.022721307585015893\n",
            "epoch 450, train_loss=0.029194980902089315, val_loss=0.025670548900961876\n",
            "epoch 460, train_loss=0.030017365659163756, val_loss=0.021502769319340587\n",
            "epoch 470, train_loss=0.02824608316983689, val_loss=0.019195324508473277\n",
            "epoch 480, train_loss=0.02892042425545779, val_loss=0.026737267849966884\n",
            "epoch 490, train_loss=0.028927402740175075, val_loss=0.020820431411266327\n"
          ]
        },
        {
          "output_type": "display_data",
          "data": {
            "text/plain": [
              "<Figure size 432x432 with 1 Axes>"
            ],
            "image/png": "[encoded data removed]"
          },
          "metadata": {
            "needs_background": "light"
          }
        }
      ]
    },
    {
      "cell_type": "markdown",
      "source": [
        "# 4 слоя, 4 узла, без Tanh"
      ],
      "metadata": {
        "id": "mPCEDDVG-ws7"
      }
    },
    {
      "cell_type": "code",
      "source": [
        "class AutoEncoder(nn.Module):\n",
        "    def __init__(self, h=4):\n",
        "        super().__init__()\n",
        "        self.encoder = nn.Sequential(\n",
        "            nn.Linear(2, h),\n",
        "            nn.ReLU(),\n",
        "            nn.Linear(h, h),\n",
        "            nn.ReLU(),\n",
        "            nn.Linear(h, h),\n",
        "            nn.ReLU(),\n",
        "            nn.Linear(h, 1),\n",
        "            nn.ReLU()\n",
        "        )\n",
        "        self.decoder = nn.Sequential(\n",
        "            nn.Linear(1, h),\n",
        "            nn.ReLU(),\n",
        "            nn.Linear(h, h),\n",
        "            nn.ReLU(),\n",
        "            nn.Linear(h, h),\n",
        "            nn.ReLU(),\n",
        "            nn.Linear(h, 2),\n",
        "            # nn.Tanh()\n",
        "        )\n",
        "\n",
        "    def forward(self, x):\n",
        "        y = self.encoder(x)\n",
        "        z = self.decoder(y)\n",
        "        return z\n",
        "  \n",
        "print('number of params:', sum(p.numel() for p in AutoEncoder().parameters()))\n",
        "\n"
      ],
      "metadata": {
        "colab": {
          "base_uri": "https://localhost:8080/"
        },
        "id": "FfEQciAPqvuo",
        "outputId": "9cb39c79-e007-46bb-a596-13d9488e4bad"
      },
      "execution_count": null,
      "outputs": [
        {
          "output_type": "stream",
          "name": "stdout",
          "text": [
            "number of params: 115\n"
          ]
        }
      ]
    },
    {
      "cell_type": "markdown",
      "source": [
        "## batch = 8"
      ],
      "metadata": {
        "id": "QhH_DrLq-1XZ"
      }
    },
    {
      "cell_type": "code",
      "source": [
        "torch.manual_seed(seed)\n",
        "random.seed(seed)\n",
        "np.random.seed(seed)\n",
        "\n",
        "model = AutoEncoder()\n",
        "device = torch.device('cuda' if torch.cuda.is_available() else 'cpu')\n",
        "model.to(device)\n",
        "\n",
        "batch_size = 8\n",
        "epochs = 500\n",
        "lr = 1e-3\n",
        "optim = Adam(model.parameters(), lr=lr)\n",
        "loss = F.mse_loss\n",
        "\n",
        "# generate data and create data\n",
        "data_train = create_data(700)\n",
        "data_val = create_data(100)\n",
        "datas = [data_train, data_val]\n",
        "\n",
        "# train model\n",
        "train_loss, val_loss = train_model(model, loss, optim, epochs, device, datas)\n",
        "\n",
        "# look at examples\n",
        "print_examples(model)"
      ],
      "metadata": {
        "colab": {
          "base_uri": "https://localhost:8080/",
          "height": 1000
        },
        "id": "3SWheCmUyfod",
        "outputId": "57133cd7-43fb-4fb6-ef3f-ecc04bc7472b"
      },
      "execution_count": null,
      "outputs": [
        {
          "output_type": "stream",
          "name": "stdout",
          "text": [
            "epoch 0, train_loss=0.6586351922967217, val_loss=0.6077469037129328\n",
            "epoch 10, train_loss=0.2710537417707118, val_loss=0.2700568414651431\n",
            "epoch 20, train_loss=0.25097781098024413, val_loss=0.24977171191802391\n",
            "epoch 30, train_loss=0.23568556991151787, val_loss=0.23219878341142947\n",
            "epoch 40, train_loss=0.16615169986405157, val_loss=0.1750671496758094\n",
            "epoch 50, train_loss=0.1201214265416969, val_loss=0.1154574416577816\n",
            "epoch 60, train_loss=0.07964164124463093, val_loss=0.07633860867757064\n",
            "epoch 70, train_loss=0.06242069917392324, val_loss=0.061196695655011214\n",
            "epoch 80, train_loss=0.050422110319645566, val_loss=0.049063993331331476\n",
            "epoch 90, train_loss=0.04345669571987607, val_loss=0.04062893556860777\n",
            "epoch 100, train_loss=0.03767820168551142, val_loss=0.0357578109519986\n",
            "epoch 110, train_loss=0.03435889883390204, val_loss=0.02419726736843586\n",
            "epoch 120, train_loss=0.03329522586004301, val_loss=0.02693525214607899\n",
            "epoch 130, train_loss=0.031599897679618814, val_loss=0.02062954266483967\n",
            "epoch 140, train_loss=0.027494931577662515, val_loss=0.02937382760529335\n",
            "epoch 150, train_loss=0.02640766588526524, val_loss=0.01528479431111079\n",
            "epoch 160, train_loss=0.02483647212978791, val_loss=0.025377411860972643\n",
            "epoch 170, train_loss=0.024313390196766704, val_loss=0.025607255699399572\n",
            "epoch 180, train_loss=0.02306438107255169, val_loss=0.01992567055500471\n",
            "epoch 190, train_loss=0.022046328061895274, val_loss=0.013913833607847873\n",
            "epoch 200, train_loss=0.024160321685485542, val_loss=0.017063887539104775\n",
            "epoch 210, train_loss=0.022627807534511456, val_loss=0.022906858581476487\n",
            "epoch 220, train_loss=0.02013035373106091, val_loss=0.014391474604893189\n",
            "epoch 230, train_loss=0.019898854577067224, val_loss=0.012015871775264923\n",
            "epoch 240, train_loss=0.01993120069329796, val_loss=0.01192349625321535\n",
            "epoch 250, train_loss=0.01951104162303223, val_loss=0.01361084571824624\n",
            "epoch 260, train_loss=0.022983113266739318, val_loss=0.02422486091605746\n",
            "epoch 270, train_loss=0.01934340454913168, val_loss=0.01688571861730172\n",
            "epoch 280, train_loss=0.019144484984942457, val_loss=0.026006620162381575\n",
            "epoch 290, train_loss=0.020650823844004084, val_loss=0.02328285610733124\n",
            "epoch 300, train_loss=0.018166077810085633, val_loss=0.010765917169360014\n",
            "epoch 310, train_loss=0.017162547579077495, val_loss=0.01540455942113812\n",
            "epoch 320, train_loss=0.01876321719398468, val_loss=0.010366572711903315\n",
            "epoch 330, train_loss=0.01681351903508502, val_loss=0.027899397196821295\n",
            "epoch 340, train_loss=0.019405603710434993, val_loss=0.028491551163964547\n",
            "epoch 350, train_loss=0.017388132494736717, val_loss=0.02384933403048378\n",
            "epoch 360, train_loss=0.01634080296339975, val_loss=0.020859491330786392\n",
            "epoch 370, train_loss=0.02324109986974773, val_loss=0.012803885154426098\n",
            "epoch 380, train_loss=0.020011970678090372, val_loss=0.01145726854268175\n",
            "epoch 390, train_loss=0.016530206466665153, val_loss=0.0167266871744337\n",
            "epoch 400, train_loss=0.0172686973660761, val_loss=0.02814491272259217\n",
            "epoch 410, train_loss=0.018506274235815825, val_loss=0.012173034214916138\n",
            "epoch 420, train_loss=0.015906052322613752, val_loss=0.011087778131835736\n",
            "epoch 430, train_loss=0.01967596935256469, val_loss=0.01357576698781206\n",
            "epoch 440, train_loss=0.02164954193126918, val_loss=0.012950375103033505\n",
            "epoch 450, train_loss=0.018244204894554885, val_loss=0.028274509482658826\n",
            "epoch 460, train_loss=0.017251947497822006, val_loss=0.010961648399153581\n",
            "epoch 470, train_loss=0.019309169133934614, val_loss=0.014350372832268476\n",
            "epoch 480, train_loss=0.01563688601494174, val_loss=0.02069180032524925\n",
            "epoch 490, train_loss=0.018221187524349345, val_loss=0.015225341507735161\n"
          ]
        },
        {
          "output_type": "display_data",
          "data": {
            "text/plain": [
              "<Figure size 432x432 with 1 Axes>"
            ],
            "image/png": "[encoded data removed]"
          },
          "metadata": {
            "needs_background": "light"
          }
        }
      ]
    },
    {
      "cell_type": "markdown",
      "source": [
        "## batch = 128"
      ],
      "metadata": {
        "id": "2kRfZrP8-5LU"
      }
    },
    {
      "cell_type": "code",
      "source": [
        "torch.manual_seed(seed)\n",
        "random.seed(seed)\n",
        "np.random.seed(seed)\n",
        "\n",
        "model = AutoEncoder()\n",
        "device = torch.device('cuda' if torch.cuda.is_available() else 'cpu')\n",
        "model.to(device)\n",
        "\n",
        "batch_size = 128\n",
        "epochs = 500\n",
        "lr = 1e-3\n",
        "optim = Adam(model.parameters(), lr=lr)\n",
        "loss = F.mse_loss\n",
        "\n",
        "# generate data and create data\n",
        "data_train = create_data(700)\n",
        "data_val = create_data(100)\n",
        "datas = [data_train, data_val]\n",
        "\n",
        "# train model\n",
        "train_loss, val_loss = train_model(model, loss, optim, epochs, device, datas)\n",
        "\n",
        "# look at examples\n",
        "print_examples(model)"
      ],
      "metadata": {
        "colab": {
          "base_uri": "https://localhost:8080/",
          "height": 1000
        },
        "id": "knXBMy5AyhuC",
        "outputId": "a0332fe0-14ed-4d96-ae1f-44d6fe34d6d1"
      },
      "execution_count": null,
      "outputs": [
        {
          "output_type": "stream",
          "name": "stdout",
          "text": [
            "epoch 0, train_loss=0.7279653946558634, val_loss=0.7143728137016296\n",
            "epoch 10, train_loss=0.6138465702533722, val_loss=0.6239591240882874\n",
            "epoch 20, train_loss=0.582773874203364, val_loss=0.5830981731414795\n",
            "epoch 30, train_loss=0.5501862565676371, val_loss=0.5472460985183716\n",
            "epoch 40, train_loss=0.44319509466489154, val_loss=0.4336329996585846\n",
            "epoch 50, train_loss=0.36371466020743054, val_loss=0.3588609993457794\n",
            "epoch 60, train_loss=0.3272937734921773, val_loss=0.32637420296669006\n",
            "epoch 70, train_loss=0.30694449444611865, val_loss=0.30554550886154175\n",
            "epoch 80, train_loss=0.29405809938907623, val_loss=0.2919348478317261\n",
            "epoch 90, train_loss=0.28502323230107623, val_loss=0.2830705940723419\n",
            "epoch 100, train_loss=0.2763308932383855, val_loss=0.2768136262893677\n",
            "epoch 110, train_loss=0.2697267681360245, val_loss=0.2720967233181\n",
            "epoch 120, train_loss=0.2672780106465022, val_loss=0.2683718800544739\n",
            "epoch 130, train_loss=0.26716365168492, val_loss=0.26528307795524597\n",
            "epoch 140, train_loss=0.26041674117247265, val_loss=0.26268869638442993\n",
            "epoch 150, train_loss=0.25853122770786285, val_loss=0.26050618290901184\n",
            "epoch 160, train_loss=0.2583858122428258, val_loss=0.2586781680583954\n",
            "epoch 170, train_loss=0.2547782187660535, val_loss=0.25709623098373413\n",
            "epoch 180, train_loss=0.25435947875181836, val_loss=0.2557569444179535\n",
            "epoch 190, train_loss=0.250817430516084, val_loss=0.2545883059501648\n",
            "epoch 200, train_loss=0.2548593332370122, val_loss=0.25357139110565186\n",
            "epoch 210, train_loss=0.2523641859491666, val_loss=0.25264111161231995\n",
            "epoch 220, train_loss=0.2540285562475522, val_loss=0.251780241727829\n",
            "epoch 230, train_loss=0.24837050338586172, val_loss=0.2508280575275421\n",
            "epoch 240, train_loss=0.2491064816713333, val_loss=0.24989283084869385\n",
            "epoch 250, train_loss=0.2507790227731069, val_loss=0.24837534129619598\n",
            "epoch 260, train_loss=0.2437112033367157, val_loss=0.24606378376483917\n",
            "epoch 270, train_loss=0.2431243136525154, val_loss=0.24177441000938416\n",
            "epoch 280, train_loss=0.23794359465440115, val_loss=0.23478922247886658\n",
            "epoch 290, train_loss=0.22119838247696558, val_loss=0.22143760323524475\n",
            "epoch 300, train_loss=0.19817277292410532, val_loss=0.1988067477941513\n",
            "epoch 310, train_loss=0.1764637976884842, val_loss=0.17357131838798523\n",
            "epoch 320, train_loss=0.15572013954321542, val_loss=0.15422381460666656\n",
            "epoch 330, train_loss=0.1433811311920484, val_loss=0.1423892080783844\n",
            "epoch 340, train_loss=0.13299994667371115, val_loss=0.13288618624210358\n",
            "epoch 350, train_loss=0.12711250285307565, val_loss=0.12866400182247162\n",
            "epoch 360, train_loss=0.12119777252276738, val_loss=0.12294524908065796\n",
            "epoch 370, train_loss=0.11465618759393692, val_loss=0.11605075746774673\n",
            "epoch 380, train_loss=0.10887986421585083, val_loss=0.11110928654670715\n",
            "epoch 390, train_loss=0.1098310040930907, val_loss=0.10831549763679504\n",
            "epoch 400, train_loss=0.10400935634970665, val_loss=0.10380037128925323\n",
            "epoch 410, train_loss=0.1013881117105484, val_loss=0.09895303100347519\n",
            "epoch 420, train_loss=0.09817144523064296, val_loss=0.09572267532348633\n",
            "epoch 430, train_loss=0.09693722054362297, val_loss=0.09168638288974762\n",
            "epoch 440, train_loss=0.08876937503616016, val_loss=0.08985798805952072\n",
            "epoch 450, train_loss=0.09094389031330745, val_loss=0.0873599424958229\n",
            "epoch 460, train_loss=0.09086074928442638, val_loss=0.08817573636770248\n",
            "epoch 470, train_loss=0.08609151281416416, val_loss=0.08834594488143921\n",
            "epoch 480, train_loss=0.0826491949458917, val_loss=0.08782804757356644\n",
            "epoch 490, train_loss=0.08554677851498127, val_loss=0.08583857864141464\n"
          ]
        },
        {
          "output_type": "display_data",
          "data": {
            "text/plain": [
              "<Figure size 432x432 with 1 Axes>"
            ],
            "image/png": "[encoded data removed]"
          },
          "metadata": {
            "needs_background": "light"
          }
        }
      ]
    },
    {
      "cell_type": "markdown",
      "source": [
        "# 5 слоев, 4 узла"
      ],
      "metadata": {
        "id": "U4BD8SJN-7_R"
      }
    },
    {
      "cell_type": "code",
      "source": [
        "class AutoEncoder(nn.Module):\n",
        "    def __init__(self, h=4):\n",
        "        super().__init__()\n",
        "        self.encoder = nn.Sequential(\n",
        "            nn.Linear(2, h),\n",
        "            nn.ReLU(),\n",
        "            nn.Linear(h, h),\n",
        "            nn.ReLU(),\n",
        "            nn.Linear(h, h),\n",
        "            nn.ReLU(),\n",
        "            nn.Linear(h, h),\n",
        "            nn.ReLU(),\n",
        "            nn.Linear(h, 1),\n",
        "            nn.ReLU()\n",
        "        )\n",
        "        self.decoder = nn.Sequential(\n",
        "            nn.Linear(1, h),\n",
        "            nn.ReLU(),\n",
        "            nn.Linear(h, h),\n",
        "            nn.ReLU(),\n",
        "            nn.Linear(h, h),\n",
        "            nn.ReLU(),\n",
        "            nn.Linear(h, h),\n",
        "            nn.ReLU(),\n",
        "            nn.Linear(h, 2),\n",
        "            # nn.Tanh()\n",
        "        )\n",
        "\n",
        "    def forward(self, x):\n",
        "        y = self.encoder(x)\n",
        "        z = self.decoder(y)\n",
        "        return z\n",
        "  \n",
        "print('number of params:', sum(p.numel() for p in AutoEncoder().parameters()))\n",
        "\n"
      ],
      "metadata": {
        "colab": {
          "base_uri": "https://localhost:8080/"
        },
        "id": "cYkLZs2szsZe",
        "outputId": "19dad363-cc28-4ab5-befa-78822bcc08fd"
      },
      "execution_count": null,
      "outputs": [
        {
          "output_type": "stream",
          "name": "stdout",
          "text": [
            "number of params: 155\n"
          ]
        }
      ]
    },
    {
      "cell_type": "markdown",
      "source": [
        "batch = 16"
      ],
      "metadata": {
        "id": "uHCXgttz-_EI"
      }
    },
    {
      "cell_type": "code",
      "source": [
        "torch.manual_seed(seed)\n",
        "random.seed(seed)\n",
        "np.random.seed(seed)\n",
        "\n",
        "model = AutoEncoder()\n",
        "device = torch.device('cuda' if torch.cuda.is_available() else 'cpu')\n",
        "model.to(device)\n",
        "\n",
        "batch_size = 16\n",
        "epochs = 100\n",
        "lr = 1e-3\n",
        "optim = Adam(model.parameters(), lr=lr)\n",
        "loss = F.mse_loss\n",
        "\n",
        "# generate data and create data\n",
        "data_train = create_data(1000)\n",
        "data_val = create_data(100)\n",
        "datas = [data_train, data_val]\n",
        "\n",
        "# train model\n",
        "train_loss, val_loss = train_model(model, loss, optim, epochs, device, datas)\n",
        "\n",
        "# look at examples\n",
        "print_examples(model)"
      ],
      "metadata": {
        "colab": {
          "base_uri": "https://localhost:8080/",
          "height": 552
        },
        "id": "yaz7sycu0Ogt",
        "outputId": "f757d0cf-f91f-46bc-cc1b-553044c01a5d"
      },
      "execution_count": null,
      "outputs": [
        {
          "output_type": "stream",
          "name": "stdout",
          "text": [
            "epoch 0, train_loss=0.6367391399920933, val_loss=0.6393535307475499\n",
            "epoch 10, train_loss=0.500333877782973, val_loss=0.5004834873335702\n",
            "epoch 20, train_loss=0.5003048380215963, val_loss=0.5000821479729244\n",
            "epoch 30, train_loss=0.5003334298020318, val_loss=0.49999092732157024\n",
            "epoch 40, train_loss=0.5001503380518111, val_loss=0.5003974650587354\n",
            "epoch 50, train_loss=0.5002646942933401, val_loss=0.49986338189670015\n",
            "epoch 60, train_loss=0.5002754046803429, val_loss=0.5000048492635999\n",
            "epoch 70, train_loss=0.5002495812045203, val_loss=0.4999828594071524\n",
            "epoch 80, train_loss=0.5002735465291946, val_loss=0.5002439532961164\n",
            "epoch 90, train_loss=0.5002222529479435, val_loss=0.500030483518328\n"
          ]
        },
        {
          "output_type": "display_data",
          "data": {
            "text/plain": [
              "<Figure size 432x432 with 1 Axes>"
            ],
            "image/png": "[encoded data removed]"
          },
          "metadata": {
            "needs_background": "light"
          }
        }
      ]
    },
    {
      "cell_type": "code",
      "source": [
        ""
      ],
      "metadata": {
        "id": "RsSAOwF70Ywo"
      },
      "execution_count": null,
      "outputs": []
    }
  ]
}