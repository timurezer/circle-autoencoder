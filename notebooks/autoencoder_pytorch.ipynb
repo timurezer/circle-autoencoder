{
  "nbformat": 4,
  "nbformat_minor": 0,
  "metadata": {
    "colab": {
      "name": "torch_autoencoder.ipynb",
      "provenance": [],
      "collapsed_sections": []
    },
    "kernelspec": {
      "name": "python3",
      "display_name": "Python 3"
    },
    "language_info": {
      "name": "python"
    },
    "gpuClass": "standard"
  },
  "cells": [
    {
      "cell_type": "code",
      "source": [
        "import os\n",
        "import sys\n",
        "import numpy as np\n",
        "import pandas as pd\n",
        "import torch\n",
        "from torch import nn\n",
        "from torch.optim import Adam\n",
        "from torch.utils.data import Dataset, DataLoader\n",
        "from torch.optim import Adam\n",
        "import torch.nn.functional as F\n",
        "import matplotlib.pyplot as plt\n",
        "from sklearn.metrics import roc_auc_score, accuracy_score, precision_score, recall_score, f1_score\n",
        "\n",
        "import random"
      ],
      "metadata": {
        "id": "E56SDR6kis1_"
      },
      "execution_count": 1,
      "outputs": []
    },
    {
      "cell_type": "code",
      "source": [
        "seed=42"
      ],
      "metadata": {
        "id": "AHJEPqqai_7m"
      },
      "execution_count": 2,
      "outputs": []
    },
    {
      "cell_type": "markdown",
      "source": [
        "# Code"
      ],
      "metadata": {
        "id": "jhSb7Evvec5S"
      }
    },
    {
      "cell_type": "code",
      "source": [
        "def create_data(n, noise=False, sigma=0.1):\n",
        "    # creade set of points at circle with R=1\n",
        "    phi = 2 * np.pi * np.arange(n) / n    # np.random.rand(n) # np.arange(n) / n\n",
        "    x, y = np.cos(phi), np.sin(phi)\n",
        "    if noise:\n",
        "        x += np.random.normal(0, sigma, n)\n",
        "        y += np.random.normal(0, sigma, n)\n",
        "    data = np.hstack((x.reshape(-1, 1), y.reshape(-1, 1)))\n",
        "    return data\n",
        "\n",
        "class MyDataset(Dataset):\n",
        "    def __init__(self, data):\n",
        "        self.data = data\n",
        "\n",
        "    def __getitem__(self, item):\n",
        "        return self.data[item]\n",
        "\n",
        "    def __len__(self):\n",
        "        return len(self.data)\n",
        "\n",
        "def single_pass(model, dataloader, loss_func, device, optim=None):\n",
        "    loss_count = 0\n",
        "    for i, data in enumerate(dataloader):\n",
        "        data = data.float().to(device)\n",
        "        pred = model.forward(data)\n",
        "        loss = loss_func(pred, data)    ####\n",
        "        loss_count += loss.item()\n",
        "\n",
        "        if optim is not None:\n",
        "            loss.backward()\n",
        "            optim.step()\n",
        "            optim.zero_grad()\n",
        "    return loss_count / len(dataloader)\n",
        "\n",
        "def train_model(model, loss, optim, epochs, device, datas, batch_size, print_step=10):\n",
        "    data_train, data_val = datas\n",
        "    dataloader_train = DataLoader(MyDataset(data_train), batch_size, shuffle=True)\n",
        "    dataloader_val = DataLoader(MyDataset(data_val), batch_size, shuffle=True)\n",
        "    train_loss_all, val_loss_all = [], []\n",
        "    # training loop\n",
        "    for epoch in range(epochs):\n",
        "        # train\n",
        "        train_loss = single_pass(model, dataloader_train, loss, device, optim)\n",
        "        \n",
        "        if epoch % print_step == 0:\n",
        "            # validation\n",
        "            with torch.no_grad():\n",
        "                val_loss = single_pass(model, dataloader_val, loss, device)\n",
        "            print(\n",
        "                f'epoch {epoch}, train_loss={train_loss}, val_loss={val_loss}')\n",
        "\n",
        "            train_loss_all.append(train_loss)\n",
        "            val_loss_all.append(val_loss)\n",
        "\n",
        "    return train_loss_all, val_loss_all\n"
      ],
      "metadata": {
        "id": "uw2vBZ9zirkR"
      },
      "execution_count": 30,
      "outputs": []
    },
    {
      "cell_type": "code",
      "source": [
        "def print_examples(model):\n",
        "    data = create_data(100)\n",
        "    with torch.no_grad():\n",
        "        pred = model.forward(torch.tensor(data).float().to(device)).detach().cpu().numpy()\n",
        "    x, y = data[:, 0], data[:, 1]\n",
        "    x_pred, y_pred = pred[:, 0], pred[:, 1]\n",
        "\n",
        "    plt.figure(figsize=(6, 6))\n",
        "    plt.scatter(x, y, label='true')\n",
        "    plt.scatter(x_pred, y_pred, label='pred')\n",
        "    plt.legend()\n",
        "    plt.show()\n",
        "\n",
        "\n",
        "def plot_results(ax, train_loss, val_loss, label):\n",
        "    epochs = np.arange(1, len(train_loss) + 1)\n",
        "    ax.plot(epochs, train_loss, label='train')\n",
        "    ax.plot(epochs, val_loss, label='validation')\n",
        "    ax.set_xlabel('Epochs')\n",
        "    ax.set_ylabel(label)\n",
        "    ax.legend()\n",
        "    "
      ],
      "metadata": {
        "id": "ywpPMjMNjDq0"
      },
      "execution_count": 31,
      "outputs": []
    },
    {
      "cell_type": "markdown",
      "source": [
        "# model"
      ],
      "metadata": {
        "id": "dsJd2NJIF4Pu"
      }
    },
    {
      "cell_type": "code",
      "source": [
        "class AutoEncoder(nn.Module):\n",
        "    def __init__(self, h=6):\n",
        "        super().__init__()\n",
        "        self.encoder = nn.Sequential(\n",
        "            nn.Linear(2, h),\n",
        "            nn.ReLU(),\n",
        "            nn.Linear(h, h),\n",
        "            nn.ReLU(),\n",
        "            nn.Linear(h, 1),\n",
        "            nn.ReLU()\n",
        "        )\n",
        "        self.decoder = nn.Sequential(\n",
        "            nn.Linear(1, h),\n",
        "            nn.ReLU(),\n",
        "            nn.Linear(h, h),\n",
        "            nn.ReLU(),\n",
        "            nn.Linear(h, 2),\n",
        "            # nn.Tanh()\n",
        "        )\n",
        "\n",
        "    def forward(self, x):\n",
        "        y = self.encoder(x)\n",
        "        z = self.decoder(y)\n",
        "        return z\n",
        "  \n",
        "print('number of params:', sum(p.numel() for p in AutoEncoder().parameters()))\n",
        "\n"
      ],
      "metadata": {
        "colab": {
          "base_uri": "https://localhost:8080/"
        },
        "id": "2C_2lhRmEZ0w",
        "outputId": "84d4b12a-6ce7-404d-fd97-5f4b9b55ba31"
      },
      "execution_count": 32,
      "outputs": [
        {
          "output_type": "stream",
          "name": "stdout",
          "text": [
            "number of params: 135\n"
          ]
        }
      ]
    },
    {
      "cell_type": "markdown",
      "source": [
        "### Example"
      ],
      "metadata": {
        "id": "hdxA2l_SuPAK"
      }
    },
    {
      "cell_type": "code",
      "source": [
        "torch.manual_seed(seed)\n",
        "random.seed(seed)\n",
        "np.random.seed(seed)\n",
        "\n",
        "model = AutoEncoder()\n",
        "device = torch.device('cuda' if torch.cuda.is_available() else 'cpu')\n",
        "model.to(device)\n",
        "\n",
        "batch_size = 8\n",
        "epochs = 600\n",
        "lr = 5*1e-3\n",
        "optim = Adam(model.parameters(), lr=lr)\n",
        "loss = F.mse_loss\n",
        "\n",
        "# generate data and create data\n",
        "data_train = create_data(700)\n",
        "data_val = create_data(100)\n",
        "datas = [data_train, data_val]\n",
        "\n",
        "# train model\n",
        "train_loss, val_loss = train_model(model, loss, optim, epochs, device, datas, batch_size)\n",
        "\n",
        "# print loss graphs\n",
        "_, ax = plt.subplots()\n",
        "plot_results(ax, train_loss, val_loss, label='Loss')\n",
        "\n",
        "# look at examples\n",
        "print_examples(model)"
      ],
      "metadata": {
        "colab": {
          "base_uri": "https://localhost:8080/",
          "height": 1000
        },
        "id": "QwbuVzwGICk2",
        "outputId": "58442b07-6201-40b8-9965-263dee813c73"
      },
      "execution_count": 33,
      "outputs": [
        {
          "output_type": "stream",
          "name": "stdout",
          "text": [
            "epoch 0, train_loss=0.44241256994957273, val_loss=0.3105295025385343\n",
            "epoch 10, train_loss=0.2528762378814546, val_loss=0.24542557849333838\n",
            "epoch 20, train_loss=0.19349640125239437, val_loss=0.17644628710471666\n",
            "epoch 30, train_loss=0.08546757192181592, val_loss=0.09392988595824975\n",
            "epoch 40, train_loss=0.07447124206969007, val_loss=0.061045992403076246\n",
            "epoch 50, train_loss=0.0629158893134445, val_loss=0.08340941956983162\n",
            "epoch 60, train_loss=0.05062492993998934, val_loss=0.048229770305065006\n",
            "epoch 70, train_loss=0.045903917465528306, val_loss=0.04558507911860943\n",
            "epoch 80, train_loss=0.0356449244692075, val_loss=0.03973182691977574\n",
            "epoch 90, train_loss=0.027418190317059107, val_loss=0.029342731460928917\n",
            "epoch 100, train_loss=0.03650248337494717, val_loss=0.04069007488970573\n",
            "epoch 110, train_loss=0.03283389321189712, val_loss=0.021806016206168212\n",
            "epoch 120, train_loss=0.043528519083999774, val_loss=0.024319983051659968\n",
            "epoch 130, train_loss=0.032561841918240214, val_loss=0.02074748671685274\n",
            "epoch 140, train_loss=0.040100137626392425, val_loss=0.041518627236095756\n",
            "epoch 150, train_loss=0.0367089876672253, val_loss=0.019098401857683293\n",
            "epoch 160, train_loss=0.022470029959963125, val_loss=0.043304323290403075\n",
            "epoch 170, train_loss=0.01834775892678987, val_loss=0.014739096093063172\n",
            "epoch 180, train_loss=0.010810317804994569, val_loss=0.010170851225176683\n",
            "epoch 190, train_loss=0.018532172218494288, val_loss=0.015185269455497082\n",
            "epoch 200, train_loss=0.018549264855788682, val_loss=0.019942496688320085\n",
            "epoch 210, train_loss=0.009517013367836957, val_loss=0.010340508306398988\n",
            "epoch 220, train_loss=0.011954202870997093, val_loss=0.0070443928170089536\n",
            "epoch 230, train_loss=0.01524409343520264, val_loss=0.009793977074038524\n",
            "epoch 240, train_loss=0.015139444567136128, val_loss=0.0077695198392925355\n",
            "epoch 250, train_loss=0.012365962887997739, val_loss=0.0265852736774832\n",
            "epoch 260, train_loss=0.011961925757614981, val_loss=0.008534381846682383\n",
            "epoch 270, train_loss=0.007956055716600862, val_loss=0.016404754338929288\n",
            "epoch 280, train_loss=0.010586587742595426, val_loss=0.004062431452509303\n",
            "epoch 290, train_loss=0.008808275246172509, val_loss=0.005102247474356913\n",
            "epoch 300, train_loss=0.008214747624482367, val_loss=0.010107833104064832\n",
            "epoch 310, train_loss=0.00612535358893431, val_loss=0.0028820608276873827\n",
            "epoch 320, train_loss=0.010679814394362356, val_loss=0.010080131863315519\n",
            "epoch 330, train_loss=0.006841350488354114, val_loss=0.007937679819476146\n",
            "epoch 340, train_loss=0.006677013369467618, val_loss=0.008944536281677965\n",
            "epoch 350, train_loss=0.021703770585273476, val_loss=0.006167944377431503\n",
            "epoch 360, train_loss=0.010382073643003505, val_loss=0.004622933983158033\n",
            "epoch 370, train_loss=0.005783274153310975, val_loss=0.017489046001663573\n",
            "epoch 380, train_loss=0.007186412297332109, val_loss=0.004883551710428527\n",
            "epoch 390, train_loss=0.0037733332851943983, val_loss=0.005505717117697573\n",
            "epoch 400, train_loss=0.007032380596766333, val_loss=0.005010549301424852\n",
            "epoch 410, train_loss=0.0037935409186915917, val_loss=0.0035967555864212606\n",
            "epoch 420, train_loss=0.00512793373160424, val_loss=0.004334609257057309\n",
            "epoch 430, train_loss=0.00827525208362865, val_loss=0.005315249929061303\n",
            "epoch 440, train_loss=0.011125876551060091, val_loss=0.004234335080792124\n",
            "epoch 450, train_loss=0.006019485108977692, val_loss=0.0066592441155360295\n",
            "epoch 460, train_loss=0.007437038903431544, val_loss=0.003359874611935363\n",
            "epoch 470, train_loss=0.011122520407132635, val_loss=0.008369076423920117\n",
            "epoch 480, train_loss=0.007383839683329411, val_loss=0.0026625846960366918\n",
            "epoch 490, train_loss=0.00832703916041117, val_loss=0.003811319573567464\n",
            "epoch 500, train_loss=0.008333606277698313, val_loss=0.006024283052493746\n",
            "epoch 510, train_loss=0.007575645020221022, val_loss=0.00806036122286549\n",
            "epoch 520, train_loss=0.00979032637604343, val_loss=0.021007604288080566\n",
            "epoch 530, train_loss=0.00527910032145552, val_loss=0.004989855851118381\n",
            "epoch 540, train_loss=0.005965152374384078, val_loss=0.01204988847558315\n",
            "epoch 550, train_loss=0.009278779360597995, val_loss=0.018528441182122782\n",
            "epoch 560, train_loss=0.006653054064372554, val_loss=0.0036152996158657167\n",
            "epoch 570, train_loss=0.0055967111349507995, val_loss=0.0050531599061706895\n",
            "epoch 580, train_loss=0.007927901205469177, val_loss=0.01159858529885801\n",
            "epoch 590, train_loss=0.005078873994617342, val_loss=0.007071079471363471\n"
          ]
        },
        {
          "output_type": "display_data",
          "data": {
            "text/plain": [
              "<Figure size 432x288 with 1 Axes>"
            ],
            "image/png": "[encoded data removed]"
          },
          "metadata": {
            "needs_background": "light"
          }
        },
        {
          "output_type": "display_data",
          "data": {
            "text/plain": [
              "<Figure size 432x432 with 1 Axes>"
            ],
            "image/png": "[encoded data removed]"
          },
          "metadata": {
            "needs_background": "light"
          }
        }
      ]
    },
    {
      "cell_type": "code",
      "source": [
        ""
      ],
      "metadata": {
        "id": "NVJKVeWb6F0O"
      },
      "execution_count": null,
      "outputs": []
    }
  ]
}