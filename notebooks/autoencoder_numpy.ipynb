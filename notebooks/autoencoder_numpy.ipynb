{
  "nbformat": 4,
  "nbformat_minor": 0,
  "metadata": {
    "colab": {
      "name": "numpy_autoencoder.ipynb",
      "provenance": []
    },
    "kernelspec": {
      "name": "python3",
      "display_name": "Python 3"
    },
    "language_info": {
      "name": "python"
    }
  },
  "cells": [
    {
      "cell_type": "code",
      "source": [
        "import numpy as np\n",
        "import random\n",
        "import matplotlib.pyplot as plt\n",
        "import copy\n"
      ],
      "metadata": {
        "id": "KwdMhSj8E-s1"
      },
      "execution_count": 1,
      "outputs": []
    },
    {
      "cell_type": "markdown",
      "source": [
        "# Code"
      ],
      "metadata": {
        "id": "nfN2PAX5k_FT"
      }
    },
    {
      "cell_type": "code",
      "execution_count": 25,
      "metadata": {
        "id": "yxHVtSCvE8oj"
      },
      "outputs": [],
      "source": [
        "class Module:\n",
        "    def forward(self, x):\n",
        "        pass\n",
        "\n",
        "    def backward(self, grad):\n",
        "        pass\n",
        "\n",
        "    def update(self, lr):\n",
        "        pass\n",
        "\n",
        "class Linear(Module):\n",
        "    def __init__(self, in_dim, out_dim):\n",
        "        self.in_dim = in_dim\n",
        "        xavier = 1 / np.sqrt(in_dim)\n",
        "        self.W = np.random.uniform(-xavier, xavier, size=(in_dim, out_dim))\n",
        "        self.b = np.zeros((1, out_dim))\n",
        "        self.dW = None\n",
        "        self.db = None\n",
        "        self.x = None\n",
        "\n",
        "    def forward(self, x):\n",
        "        assert x.shape[-1] == self.in_dim\n",
        "        self.x = x.copy()\n",
        "        return x @ self.W + self.b\n",
        "\n",
        "    def backward(self, grad):\n",
        "        self.dW = self.x.T @ grad\n",
        "        self.db = np.sum(grad, axis=0, keepdims=True)\n",
        "        grad_ = grad @ self.W.T\n",
        "        return grad_\n",
        "\n",
        "    def update(self, lr):\n",
        "        self.W -= lr * self.dW\n",
        "        self.b -= lr * self.db\n",
        "\n",
        "\n",
        "class ReLU(Module):\n",
        "    def __init__(self):\n",
        "        self.x = None\n",
        "\n",
        "    def forward(self, x):\n",
        "        self.x = x.copy()\n",
        "        return x * (x >= 0)\n",
        "\n",
        "    def backward(self, grad):\n",
        "        return grad * (self.x >= 0)\n",
        "\n",
        "class MSE(Module):\n",
        "    def __init__(self):\n",
        "        self.x = None\n",
        "        self.y = None\n",
        "        self.N = None\n",
        "\n",
        "    def forward(self, x, y):\n",
        "        self.x = x.copy()\n",
        "        self.y = y.copy()\n",
        "        self.N = x.shape[0] * x.shape[1]\n",
        "        return np.mean((x-y)**2)\n",
        "\n",
        "    def backward(self):\n",
        "        return 2 * (self.x - self.y) / self.N    # (batch, 2)\n",
        "\n",
        "\n",
        "class DataLoader:\n",
        "    def __init__(self, X, batch_size):\n",
        "        self.X = X.copy()\n",
        "        self.N = X.shape[0]\n",
        "        self.batch_size = batch_size\n",
        "        self.idx = np.arange(X.shape[0])\n",
        "\n",
        "    def __len__(self):\n",
        "        return np.ceil(self.N / self.batch_size).astype(int)\n",
        "\n",
        "    def shuffle(self):\n",
        "        self.idx = np.random.permutation(self.N)\n",
        "        self.X = self.X[self.idx]\n",
        "\n",
        "    def __iter__(self):\n",
        "        start, stop = 0, 0\n",
        "        self.shuffle()\n",
        "        while start < self.X.shape[0]:\n",
        "            stop = start + self.batch_size\n",
        "            yield self.X[start:stop]\n",
        "            start = stop\n",
        "\n",
        "def single_pass(model, dataloader, loss_func, lr, optim=True):\n",
        "    loss_count = 0\n",
        "    for i, data in enumerate(dataloader):\n",
        "        data = data\n",
        "        pred = model.forward(data)\n",
        "        loss = loss_func.forward(pred, data)\n",
        "        loss_count += loss\n",
        "        grad = loss_func.backward()\n",
        "\n",
        "        if optim:\n",
        "            model.backward(grad)\n",
        "            model.update(lr)\n",
        "    return loss_count / len(dataloader)\n",
        "\n",
        "\n",
        "\n",
        "def train_model(model, loss, lr, epochs, dataloaders, print_step=10):\n",
        "    dataloader_train, dataloader_val = dataloaders\n",
        "    train_loss_all, val_loss_all = [], []\n",
        "    # training loop\n",
        "    for epoch in range(epochs):\n",
        "        # train\n",
        "        train_loss = single_pass(model, dataloader_train, loss, lr)\n",
        "        # validation\n",
        "        if epoch % print_step == 0:\n",
        "            val_loss = single_pass(model, dataloader_val, loss, lr, optim=False)\n",
        "            print(\n",
        "                f'epoch {epoch}, train_loss={train_loss}, val_loss={val_loss}')\n",
        "\n",
        "            train_loss_all.append(train_loss)\n",
        "            val_loss_all.append(val_loss)\n",
        "\n",
        "    return train_loss_all, val_loss_all\n",
        "\n",
        "def create_data(n, noise=False, sigma=0.1):\n",
        "    # creade set of points at circle with R=1\n",
        "    phi = 2 * np.pi * np.arange(n) / n    # np.random.rand(n) # np.arange(n) / n\n",
        "    x, y = np.cos(phi), np.sin(phi)\n",
        "    if noise:\n",
        "        x += np.random.normal(0, sigma, n)\n",
        "        y += np.random.normal(0, sigma, n)\n",
        "    data = np.hstack((x.reshape(-1, 1), y.reshape(-1, 1)))\n",
        "    return data\n",
        "\n"
      ]
    },
    {
      "cell_type": "code",
      "source": [
        "def print_examples(model):\n",
        "    data = create_data(100)\n",
        "    pred = model.forward(data)\n",
        "    x, y = data[:, 0], data[:, 1]\n",
        "    x_pred, y_pred = pred[:, 0], pred[:, 1]\n",
        "\n",
        "    plt.figure(figsize=(6, 6))\n",
        "    plt.scatter(x, y, label='true')\n",
        "    plt.scatter(x_pred, y_pred, label='pred')\n",
        "    plt.legend()\n",
        "    plt.show()\n",
        "\n",
        "def plot_results(ax, train_loss, val_loss, label):\n",
        "    epochs = np.arange(1, len(train_loss) + 1)\n",
        "    ax.plot(epochs, train_loss, label='train')\n",
        "    ax.plot(epochs, val_loss, label='validation')\n",
        "    ax.set_xlabel('Epochs')\n",
        "    ax.set_ylabel(label)\n",
        "    ax.legend()\n",
        "    "
      ],
      "metadata": {
        "id": "Ptx35Ocw4Se2"
      },
      "execution_count": 20,
      "outputs": []
    },
    {
      "cell_type": "markdown",
      "source": [
        "### model"
      ],
      "metadata": {
        "id": "OavzbxnylA_g"
      }
    },
    {
      "cell_type": "code",
      "source": [
        "class AutoEncoder(Module):\n",
        "    def __init__(self, h=6):\n",
        "        self.encoder = [\n",
        "            Linear(2, h),\n",
        "            ReLU(),\n",
        "            Linear(h, h),\n",
        "            ReLU(),\n",
        "            Linear(h, 1),\n",
        "            ReLU()\n",
        "        ]\n",
        "        self.decoder = [\n",
        "            Linear(1, h),\n",
        "            ReLU(),\n",
        "            Linear(h, h),\n",
        "            ReLU(),\n",
        "            Linear(h, 2),     # (h, 2)\n",
        "        ]\n",
        "\n",
        "    def forward(self, x):\n",
        "        x_ = x.copy()\n",
        "        for module in self.encoder:\n",
        "            x_ = module.forward(x_)\n",
        "        for module in self.decoder:\n",
        "            x_ = module.forward(x_)\n",
        "        return x_\n",
        "\n",
        "    def backward(self, grad):\n",
        "        grad_ = grad.copy()\n",
        "        for module in self.decoder[::-1]:\n",
        "            grad_ = module.backward(grad_)\n",
        "\n",
        "        for module in self.encoder[::-1]:\n",
        "            grad_ = module.backward(grad_)\n",
        "        return grad_\n",
        "\n",
        "    def update(self, lr):\n",
        "        for module in self.encoder:\n",
        "            module.update(lr)\n",
        "        for module in self.decoder:\n",
        "            module.update(lr)\n"
      ],
      "metadata": {
        "id": "jS15Q0mZFPbZ"
      },
      "execution_count": 21,
      "outputs": []
    },
    {
      "cell_type": "markdown",
      "source": [
        "## Example"
      ],
      "metadata": {
        "id": "r7257p27lEKN"
      }
    },
    {
      "cell_type": "code",
      "source": [
        "seed=42\n",
        "\n",
        "random.seed(seed)\n",
        "np.random.seed(seed)\n",
        "\n",
        "model = AutoEncoder()\n",
        "\n",
        "batch_size = 4\n",
        "epochs = 500\n",
        "lr = 1e-2\n",
        "loss = MSE()\n",
        "\n",
        "# generate data and create dataloaders\n",
        "data_train = create_data(700)    # 700\n",
        "data_val = create_data(100)\n",
        "\n",
        "dataloader_train = DataLoader(data_train, batch_size)\n",
        "dataloader_val = DataLoader(data_val, batch_size)\n",
        "dataloaders = [dataloader_train, dataloader_val]\n",
        "\n",
        "# train model\n",
        "train_loss, val_loss = train_model(model, loss, lr, epochs, dataloaders)\n",
        "\n",
        "# print loss graphs\n",
        "_, ax = plt.subplots()\n",
        "plot_results(ax, train_loss, val_loss, label='Loss')\n",
        "\n",
        "# look at examples\n",
        "data = create_data(100)\n",
        "pred = model.forward(data)\n",
        "x, y = data[:, 0], data[:, 1]\n",
        "x_pred, y_pred = pred[:, 0], pred[:, 1]\n",
        "\n",
        "plt.figure(figsize=(6, 6))\n",
        "plt.scatter(x, y, label='true')\n",
        "plt.scatter(x_pred, y_pred, label='pred')\n",
        "plt.show()\n"
      ],
      "metadata": {
        "colab": {
          "base_uri": "https://localhost:8080/",
          "height": 1000
        },
        "id": "NVDFSgn22x8d",
        "outputId": "3d614baf-04e6-4fb8-8567-a5c8f1bd949e"
      },
      "execution_count": 26,
      "outputs": [
        {
          "output_type": "stream",
          "name": "stdout",
          "text": [
            "epoch 0, train_loss=0.5001220420887551, val_loss=0.4979126773156428\n",
            "epoch 10, train_loss=0.25667876156859765, val_loss=0.25213433585641304\n",
            "epoch 20, train_loss=0.21037297422591827, val_loss=0.20571042281186303\n",
            "epoch 30, train_loss=0.17294024700834867, val_loss=0.17032247845334642\n",
            "epoch 40, train_loss=0.1482570602190781, val_loss=0.14387861230198973\n",
            "epoch 50, train_loss=0.13052725007916618, val_loss=0.12575181925308698\n",
            "epoch 60, train_loss=0.11651330186924592, val_loss=0.11048882859532988\n",
            "epoch 70, train_loss=0.10623150383932412, val_loss=0.09552330365162756\n",
            "epoch 80, train_loss=0.09294057431509677, val_loss=0.13864465028627498\n",
            "epoch 90, train_loss=0.09067667662185949, val_loss=0.09147696868368296\n",
            "epoch 100, train_loss=0.08234454637241893, val_loss=0.09080587818529323\n",
            "epoch 110, train_loss=0.07156984134349635, val_loss=0.05798196108566358\n",
            "epoch 120, train_loss=0.06298327777831988, val_loss=0.045898527179962796\n",
            "epoch 130, train_loss=0.048362011386243915, val_loss=0.034907408728649274\n",
            "epoch 140, train_loss=0.044985100291732, val_loss=0.03333798632082366\n",
            "epoch 150, train_loss=0.04578201787586659, val_loss=0.03860853412808768\n",
            "epoch 160, train_loss=0.034890828142868556, val_loss=0.03673113414520206\n",
            "epoch 170, train_loss=0.041037985761045115, val_loss=0.0319105241380292\n",
            "epoch 180, train_loss=0.03276302471478488, val_loss=0.016626600198140506\n",
            "epoch 190, train_loss=0.024461244617419296, val_loss=0.016034218844230355\n",
            "epoch 200, train_loss=0.0230636484846523, val_loss=0.012664316682151582\n",
            "epoch 210, train_loss=0.037416238730083665, val_loss=0.024365921253395335\n",
            "epoch 220, train_loss=0.0216648523844381, val_loss=0.013736005522840553\n",
            "epoch 230, train_loss=0.01905837029082743, val_loss=0.013073425804361515\n",
            "epoch 240, train_loss=0.012587329742623672, val_loss=0.004599638559798279\n",
            "epoch 250, train_loss=0.016888016658318475, val_loss=0.008067994671053113\n",
            "epoch 260, train_loss=0.019204181605798343, val_loss=0.010196271996635024\n",
            "epoch 270, train_loss=0.015318097003160915, val_loss=0.008582991779292908\n",
            "epoch 280, train_loss=0.02114518897845876, val_loss=0.005568868939240681\n",
            "epoch 290, train_loss=0.02898462191744479, val_loss=0.017698713600875535\n",
            "epoch 300, train_loss=0.02572619402988254, val_loss=0.016042351176516468\n",
            "epoch 310, train_loss=0.01774524058362637, val_loss=0.027529708942111934\n",
            "epoch 320, train_loss=0.01510415525212266, val_loss=0.0058571985833454476\n",
            "epoch 330, train_loss=0.02175415984219885, val_loss=0.009472560768515728\n",
            "epoch 340, train_loss=0.00823260903141794, val_loss=0.00495387824041645\n",
            "epoch 350, train_loss=0.012511176557326096, val_loss=0.004456017338830657\n",
            "epoch 360, train_loss=0.03548127253212437, val_loss=0.12223043755511634\n",
            "epoch 370, train_loss=0.016847530619746667, val_loss=0.007582287351950124\n",
            "epoch 380, train_loss=0.025124802127838918, val_loss=0.02746721082428869\n",
            "epoch 390, train_loss=0.010340290360544988, val_loss=0.006417608034578733\n",
            "epoch 400, train_loss=0.01777001635292024, val_loss=0.011856031696486507\n",
            "epoch 410, train_loss=0.017593278615758774, val_loss=0.008969729834867275\n",
            "epoch 420, train_loss=0.015051696562184837, val_loss=0.009851142575506431\n",
            "epoch 430, train_loss=0.014610990033598356, val_loss=0.008418963032033419\n",
            "epoch 440, train_loss=0.009538956791223612, val_loss=0.0044790755834838705\n",
            "epoch 450, train_loss=0.00800567369861731, val_loss=0.0041416098491988485\n",
            "epoch 460, train_loss=0.006157032508433606, val_loss=0.02006374986883197\n",
            "epoch 470, train_loss=0.012174041312737045, val_loss=0.004174670655936728\n",
            "epoch 480, train_loss=0.013743690513008382, val_loss=0.014300864292847444\n",
            "epoch 490, train_loss=0.007496306983150688, val_loss=0.008859535806138887\n"
          ]
        },
        {
          "output_type": "display_data",
          "data": {
            "text/plain": [
              "<Figure size 432x288 with 1 Axes>"
            ],
            "image/png": "[encoded data removed]"
          },
          "metadata": {
            "needs_background": "light"
          }
        },
        {
          "output_type": "display_data",
          "data": {
            "text/plain": [
              "<Figure size 432x432 with 1 Axes>"
            ],
            "image/png": "[encoded data removed]"
          },
          "metadata": {
            "needs_background": "light"
          }
        }
      ]
    }
  ]
}